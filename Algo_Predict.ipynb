{
  "nbformat": 4,
  "nbformat_minor": 0,
  "metadata": {
    "colab": {
      "name": "Algo_Predict",
      "provenance": [],
      "collapsed_sections": []
    },
    "kernelspec": {
      "name": "python3",
      "display_name": "Python 3"
    },
    "accelerator": "GPU"
  },
  "cells": [
    {
      "cell_type": "code",
      "metadata": {
        "id": "plKQcSWogtGG",
        "colab": {
          "base_uri": "https://localhost:8080/"
        },
        "outputId": "f82f59a0-ebc8-48e1-91e3-4ffa41a181af"
      },
      "source": [
        "from google.colab import drive\n",
        "drive.mount('/content/drive')\n"
      ],
      "execution_count": null,
      "outputs": [
        {
          "output_type": "stream",
          "text": [
            "Mounted at /content/drive\n"
          ],
          "name": "stdout"
        }
      ]
    },
    {
      "cell_type": "code",
      "metadata": {
        "id": "7kM3SV2bhE5K"
      },
      "source": [
        "import numpy as np\n",
        "import matplotlib.pyplot as plt\n",
        "import pandas as pd\n",
        "import seaborn as sns"
      ],
      "execution_count": null,
      "outputs": []
    },
    {
      "cell_type": "code",
      "metadata": {
        "id": "L-nXmqbQhk8O"
      },
      "source": [
        "d1=pd.read_csv('/content/drive/My Drive/Project/Algo_Data/data1.csv')\n",
        "d2=pd.read_csv('/content/drive/My Drive/Project/Algo_Data/data2.csv')\n",
        "d3=pd.read_csv('/content/drive/My Drive/Project/Algo_Data/data3.csv')\n",
        "d4=pd.read_csv('/content/drive/My Drive/Project/Algo_Data/data4.csv')\n",
        "d5=pd.read_csv('/content/drive/My Drive/Project/Algo_Data/data5.csv')\n",
        "d6=pd.read_csv('/content/drive/My Drive/Project/Algo_Data/data6.csv')\n",
        "d7=pd.read_csv('/content/drive/My Drive/Project/Algo_Data/data7.csv')\n",
        "d8=pd.read_csv('/content/drive/My Drive/Project/Algo_Data/data8.csv')\n",
        "d9=pd.read_csv('/content/drive/My Drive/Project/Algo_Data/data9.csv')\n",
        "d10=pd.read_csv('/content/drive/My Drive/Project/Algo_Data/data10.csv')\n",
        "d11=pd.read_csv('/content/drive/My Drive/Project/Algo_Data/data11.csv')\n",
        "d12=pd.read_csv('/content/drive/My Drive/Project/Algo_Data/data12.csv')\n",
        "d13=pd.read_csv('/content/drive/My Drive/Project/Algo_Data/data13.csv')\n",
        "d14=pd.read_csv('/content/drive/My Drive/Project/Algo_Data/data14.csv')\n",
        "d15=pd.read_csv('/content/drive/My Drive/Project/Algo_Data/data15.csv')\n",
        "\n"
      ],
      "execution_count": null,
      "outputs": []
    },
    {
      "cell_type": "code",
      "metadata": {
        "id": "ffVp4Ox7IYcU",
        "colab": {
          "base_uri": "https://localhost:8080/",
          "height": 419
        },
        "outputId": "cdef5207-8153-47d0-b445-aa5578b2747a"
      },
      "source": [
        "d=[d1,d2,d3,d4,d5,d6,d7,d8,d9,d10,d12,d13,d14,d15]\n",
        "data=pd.concat(d)\n",
        "data"
      ],
      "execution_count": null,
      "outputs": [
        {
          "output_type": "execute_result",
          "data": {
            "text/html": [
              "<div>\n",
              "<style scoped>\n",
              "    .dataframe tbody tr th:only-of-type {\n",
              "        vertical-align: middle;\n",
              "    }\n",
              "\n",
              "    .dataframe tbody tr th {\n",
              "        vertical-align: top;\n",
              "    }\n",
              "\n",
              "    .dataframe thead th {\n",
              "        text-align: right;\n",
              "    }\n",
              "</style>\n",
              "<table border=\"1\" class=\"dataframe\">\n",
              "  <thead>\n",
              "    <tr style=\"text-align: right;\">\n",
              "      <th></th>\n",
              "      <th>Order</th>\n",
              "      <th>Duplicacy</th>\n",
              "      <th>Repeatation</th>\n",
              "      <th>Sort</th>\n",
              "      <th>Algo</th>\n",
              "    </tr>\n",
              "  </thead>\n",
              "  <tbody>\n",
              "    <tr>\n",
              "      <th>0</th>\n",
              "      <td>3</td>\n",
              "      <td>0.115820</td>\n",
              "      <td>0.124954</td>\n",
              "      <td>1.000000</td>\n",
              "      <td>4</td>\n",
              "    </tr>\n",
              "    <tr>\n",
              "      <th>1</th>\n",
              "      <td>2</td>\n",
              "      <td>0.041667</td>\n",
              "      <td>0.041667</td>\n",
              "      <td>0.995833</td>\n",
              "      <td>4</td>\n",
              "    </tr>\n",
              "    <tr>\n",
              "      <th>2</th>\n",
              "      <td>3</td>\n",
              "      <td>0.273668</td>\n",
              "      <td>0.668710</td>\n",
              "      <td>0.999455</td>\n",
              "      <td>4</td>\n",
              "    </tr>\n",
              "    <tr>\n",
              "      <th>3</th>\n",
              "      <td>3</td>\n",
              "      <td>0.246874</td>\n",
              "      <td>0.725621</td>\n",
              "      <td>0.999000</td>\n",
              "      <td>4</td>\n",
              "    </tr>\n",
              "    <tr>\n",
              "      <th>4</th>\n",
              "      <td>3</td>\n",
              "      <td>0.061685</td>\n",
              "      <td>0.063423</td>\n",
              "      <td>1.000000</td>\n",
              "      <td>3</td>\n",
              "    </tr>\n",
              "    <tr>\n",
              "      <th>...</th>\n",
              "      <td>...</td>\n",
              "      <td>...</td>\n",
              "      <td>...</td>\n",
              "      <td>...</td>\n",
              "      <td>...</td>\n",
              "    </tr>\n",
              "    <tr>\n",
              "      <th>996</th>\n",
              "      <td>2</td>\n",
              "      <td>0.006067</td>\n",
              "      <td>0.993933</td>\n",
              "      <td>0.806876</td>\n",
              "      <td>3</td>\n",
              "    </tr>\n",
              "    <tr>\n",
              "      <th>997</th>\n",
              "      <td>3</td>\n",
              "      <td>0.006890</td>\n",
              "      <td>0.993110</td>\n",
              "      <td>0.851378</td>\n",
              "      <td>4</td>\n",
              "    </tr>\n",
              "    <tr>\n",
              "      <th>998</th>\n",
              "      <td>2</td>\n",
              "      <td>0.007035</td>\n",
              "      <td>0.992965</td>\n",
              "      <td>0.847236</td>\n",
              "      <td>3</td>\n",
              "    </tr>\n",
              "    <tr>\n",
              "      <th>999</th>\n",
              "      <td>3</td>\n",
              "      <td>0.004579</td>\n",
              "      <td>0.995421</td>\n",
              "      <td>0.815018</td>\n",
              "      <td>3</td>\n",
              "    </tr>\n",
              "    <tr>\n",
              "      <th>0</th>\n",
              "      <td>0</td>\n",
              "      <td>0.500000</td>\n",
              "      <td>0.500000</td>\n",
              "      <td>0.000000</td>\n",
              "      <td>1</td>\n",
              "    </tr>\n",
              "  </tbody>\n",
              "</table>\n",
              "<p>5713 rows × 5 columns</p>\n",
              "</div>"
            ],
            "text/plain": [
              "     Order  Duplicacy  Repeatation      Sort  Algo\n",
              "0        3   0.115820     0.124954  1.000000     4\n",
              "1        2   0.041667     0.041667  0.995833     4\n",
              "2        3   0.273668     0.668710  0.999455     4\n",
              "3        3   0.246874     0.725621  0.999000     4\n",
              "4        3   0.061685     0.063423  1.000000     3\n",
              "..     ...        ...          ...       ...   ...\n",
              "996      2   0.006067     0.993933  0.806876     3\n",
              "997      3   0.006890     0.993110  0.851378     4\n",
              "998      2   0.007035     0.992965  0.847236     3\n",
              "999      3   0.004579     0.995421  0.815018     3\n",
              "0        0   0.500000     0.500000  0.000000     1\n",
              "\n",
              "[5713 rows x 5 columns]"
            ]
          },
          "metadata": {
            "tags": []
          },
          "execution_count": 4
        }
      ]
    },
    {
      "cell_type": "code",
      "metadata": {
        "id": "tRdtOVjvJugG",
        "colab": {
          "base_uri": "https://localhost:8080/",
          "height": 350
        },
        "outputId": "49087d34-e6c5-499f-b1d5-763e310a09fe"
      },
      "source": [
        "sns.countplot(data['Order'])"
      ],
      "execution_count": null,
      "outputs": [
        {
          "output_type": "stream",
          "text": [
            "/usr/local/lib/python3.7/dist-packages/seaborn/_decorators.py:43: FutureWarning: Pass the following variable as a keyword arg: x. From version 0.12, the only valid positional argument will be `data`, and passing other arguments without an explicit keyword will result in an error or misinterpretation.\n",
            "  FutureWarning\n"
          ],
          "name": "stderr"
        },
        {
          "output_type": "execute_result",
          "data": {
            "text/plain": [
              "<matplotlib.axes._subplots.AxesSubplot at 0x7f3c9b469210>"
            ]
          },
          "metadata": {
            "tags": []
          },
          "execution_count": 5
        },
        {
          "output_type": "display_data",
          "data": {
            "image/png": "[encoded data removed]",
            "text/plain": [
              "<Figure size 432x288 with 1 Axes>"
            ]
          },
          "metadata": {
            "tags": [],
            "needs_background": "light"
          }
        }
      ]
    },
    {
      "cell_type": "code",
      "metadata": {
        "id": "l54Zvn0DJ29O",
        "colab": {
          "base_uri": "https://localhost:8080/"
        },
        "outputId": "9115fbb9-647e-48e1-e416-b5fd98f59771"
      },
      "source": [
        "data['Duplicacy'].describe()"
      ],
      "execution_count": null,
      "outputs": [
        {
          "output_type": "execute_result",
          "data": {
            "text/plain": [
              "count    5713.000000\n",
              "mean        0.084956\n",
              "std         0.116346\n",
              "min         0.000000\n",
              "25%         0.002024\n",
              "50%         0.022719\n",
              "75%         0.136364\n",
              "max         0.500000\n",
              "Name: Duplicacy, dtype: float64"
            ]
          },
          "metadata": {
            "tags": []
          },
          "execution_count": 6
        }
      ]
    },
    {
      "cell_type": "code",
      "metadata": {
        "id": "wz5V8OvBKIte",
        "colab": {
          "base_uri": "https://localhost:8080/",
          "height": 350
        },
        "outputId": "061c4af5-b070-4389-c227-e908528dba0e"
      },
      "source": [
        "sns.distplot(data['Duplicacy'])"
      ],
      "execution_count": null,
      "outputs": [
        {
          "output_type": "stream",
          "text": [
            "/usr/local/lib/python3.7/dist-packages/seaborn/distributions.py:2557: FutureWarning: `distplot` is a deprecated function and will be removed in a future version. Please adapt your code to use either `displot` (a figure-level function with similar flexibility) or `histplot` (an axes-level function for histograms).\n",
            "  warnings.warn(msg, FutureWarning)\n"
          ],
          "name": "stderr"
        },
        {
          "output_type": "execute_result",
          "data": {
            "text/plain": [
              "<matplotlib.axes._subplots.AxesSubplot at 0x7f3c9af2cd50>"
            ]
          },
          "metadata": {
            "tags": []
          },
          "execution_count": 7
        },
        {
          "output_type": "display_data",
          "data": {
            "image/png": "[encoded data removed]",
            "text/plain": [
              "<Figure size 432x288 with 1 Axes>"
            ]
          },
          "metadata": {
            "tags": [],
            "needs_background": "light"
          }
        }
      ]
    },
    {
      "cell_type": "code",
      "metadata": {
        "id": "21mhR1wUKL_3"
      },
      "source": [
        "data['Duplicacy']=abs(data['Duplicacy'])"
      ],
      "execution_count": null,
      "outputs": []
    },
    {
      "cell_type": "code",
      "metadata": {
        "id": "j9O80NqoKPKO",
        "colab": {
          "base_uri": "https://localhost:8080/",
          "height": 350
        },
        "outputId": "bb61da29-6390-4912-97d1-ab6098bfc39c"
      },
      "source": [
        "sns.distplot(data['Repeatation'])"
      ],
      "execution_count": null,
      "outputs": [
        {
          "output_type": "stream",
          "text": [
            "/usr/local/lib/python3.7/dist-packages/seaborn/distributions.py:2557: FutureWarning: `distplot` is a deprecated function and will be removed in a future version. Please adapt your code to use either `displot` (a figure-level function with similar flexibility) or `histplot` (an axes-level function for histograms).\n",
            "  warnings.warn(msg, FutureWarning)\n"
          ],
          "name": "stderr"
        },
        {
          "output_type": "execute_result",
          "data": {
            "text/plain": [
              "<matplotlib.axes._subplots.AxesSubplot at 0x7f3c97b99a10>"
            ]
          },
          "metadata": {
            "tags": []
          },
          "execution_count": 9
        },
        {
          "output_type": "display_data",
          "data": {
            "image/png": "[encoded data removed]",
            "text/plain": [
              "<Figure size 432x288 with 1 Axes>"
            ]
          },
          "metadata": {
            "tags": [],
            "needs_background": "light"
          }
        }
      ]
    },
    {
      "cell_type": "code",
      "metadata": {
        "id": "PVs22GSwKS5T",
        "colab": {
          "base_uri": "https://localhost:8080/",
          "height": 350
        },
        "outputId": "b7efe956-0fc2-4aa5-cc04-2872712fbf7d"
      },
      "source": [
        "sns.distplot(data['Sort'])"
      ],
      "execution_count": null,
      "outputs": [
        {
          "output_type": "stream",
          "text": [
            "/usr/local/lib/python3.7/dist-packages/seaborn/distributions.py:2557: FutureWarning: `distplot` is a deprecated function and will be removed in a future version. Please adapt your code to use either `displot` (a figure-level function with similar flexibility) or `histplot` (an axes-level function for histograms).\n",
            "  warnings.warn(msg, FutureWarning)\n"
          ],
          "name": "stderr"
        },
        {
          "output_type": "execute_result",
          "data": {
            "text/plain": [
              "<matplotlib.axes._subplots.AxesSubplot at 0x7f3c97b4d490>"
            ]
          },
          "metadata": {
            "tags": []
          },
          "execution_count": 10
        },
        {
          "output_type": "display_data",
          "data": {
            "image/png": "[encoded data removed]",
            "text/plain": [
              "<Figure size 432x288 with 1 Axes>"
            ]
          },
          "metadata": {
            "tags": [],
            "needs_background": "light"
          }
        }
      ]
    },
    {
      "cell_type": "code",
      "metadata": {
        "id": "IHgJn4THKVSb",
        "colab": {
          "base_uri": "https://localhost:8080/",
          "height": 350
        },
        "outputId": "72ed61da-4d00-4f9b-c7dd-1d52515edbde"
      },
      "source": [
        "sns.countplot(data['Algo'])"
      ],
      "execution_count": null,
      "outputs": [
        {
          "output_type": "stream",
          "text": [
            "/usr/local/lib/python3.7/dist-packages/seaborn/_decorators.py:43: FutureWarning: Pass the following variable as a keyword arg: x. From version 0.12, the only valid positional argument will be `data`, and passing other arguments without an explicit keyword will result in an error or misinterpretation.\n",
            "  FutureWarning\n"
          ],
          "name": "stderr"
        },
        {
          "output_type": "execute_result",
          "data": {
            "text/plain": [
              "<matplotlib.axes._subplots.AxesSubplot at 0x7f3c97b29050>"
            ]
          },
          "metadata": {
            "tags": []
          },
          "execution_count": 11
        },
        {
          "output_type": "display_data",
          "data": {
            "image/png": "[encoded data removed]",
            "text/plain": [
              "<Figure size 432x288 with 1 Axes>"
            ]
          },
          "metadata": {
            "tags": [],
            "needs_background": "light"
          }
        }
      ]
    },
    {
      "cell_type": "code",
      "metadata": {
        "id": "E9pD7Zy1KX5q"
      },
      "source": [
        "data=data.reset_index(drop=True)"
      ],
      "execution_count": null,
      "outputs": []
    },
    {
      "cell_type": "code",
      "metadata": {
        "id": "9O49D_61Ki50",
        "colab": {
          "base_uri": "https://localhost:8080/",
          "height": 485
        },
        "outputId": "1059e226-8aa6-4755-8fbd-7b897de01a64"
      },
      "source": [
        "sns.lmplot(x=\"Order\", y=\"Algo\", data=data,hue='Algo')\n",
        "plt.xticks([0,1,2,3,4])\n",
        "plt.yticks([1,2,3,4,5])\n"
      ],
      "execution_count": null,
      "outputs": [
        {
          "output_type": "execute_result",
          "data": {
            "text/plain": [
              "([<matplotlib.axis.YTick at 0x7f3c979c4410>,\n",
              "  <matplotlib.axis.YTick at 0x7f3c9b4c7c50>,\n",
              "  <matplotlib.axis.YTick at 0x7f3c97b9e590>,\n",
              "  <matplotlib.axis.YTick at 0x7f3c979f7250>,\n",
              "  <matplotlib.axis.YTick at 0x7f3c979f7710>],\n",
              " <a list of 5 Text major ticklabel objects>)"
            ]
          },
          "metadata": {
            "tags": []
          },
          "execution_count": 13
        },
        {
          "output_type": "display_data",
          "data": {
            "image/png": "[encoded data removed]",
            "text/plain": [
              "<Figure size 402.375x360 with 1 Axes>"
            ]
          },
          "metadata": {
            "tags": [],
            "needs_background": "light"
          }
        }
      ]
    },
    {
      "cell_type": "code",
      "metadata": {
        "id": "EQ_p2NSWKmQG",
        "colab": {
          "base_uri": "https://localhost:8080/",
          "height": 485
        },
        "outputId": "7f4f36b5-8a27-49af-c959-3488162dedc2"
      },
      "source": [
        "sns.lmplot(x=\"Duplicacy\", y=\"Algo\", data=data,hue='Algo')\n",
        "plt.yticks([1,2,3,4,5])\n"
      ],
      "execution_count": null,
      "outputs": [
        {
          "output_type": "execute_result",
          "data": {
            "text/plain": [
              "([<matplotlib.axis.YTick at 0x7f3c97b10410>,\n",
              "  <matplotlib.axis.YTick at 0x7f3c9ac01090>,\n",
              "  <matplotlib.axis.YTick at 0x7f3c8f17f4d0>,\n",
              "  <matplotlib.axis.YTick at 0x7f3c8f0cf290>,\n",
              "  <matplotlib.axis.YTick at 0x7f3c8f0da550>],\n",
              " <a list of 5 Text major ticklabel objects>)"
            ]
          },
          "metadata": {
            "tags": []
          },
          "execution_count": 14
        },
        {
          "output_type": "display_data",
          "data": {
            "image/png": "[encoded data removed]",
            "text/plain": [
              "<Figure size 402.375x360 with 1 Axes>"
            ]
          },
          "metadata": {
            "tags": [],
            "needs_background": "light"
          }
        }
      ]
    },
    {
      "cell_type": "code",
      "metadata": {
        "id": "7BrOczkaKqRg",
        "colab": {
          "base_uri": "https://localhost:8080/",
          "height": 485
        },
        "outputId": "964a833a-0409-43aa-fc41-9402d04a70ad"
      },
      "source": [
        "sns.lmplot(x=\"Repeatation\", y=\"Algo\", data=data,hue='Algo')\n",
        "plt.yticks([1,2,3,4,5])\n"
      ],
      "execution_count": null,
      "outputs": [
        {
          "output_type": "execute_result",
          "data": {
            "text/plain": [
              "([<matplotlib.axis.YTick at 0x7f3c9b3a6110>,\n",
              "  <matplotlib.axis.YTick at 0x7f3c9ae782d0>,\n",
              "  <matplotlib.axis.YTick at 0x7f3c8f078310>,\n",
              "  <matplotlib.axis.YTick at 0x7f3c8f010b90>,\n",
              "  <matplotlib.axis.YTick at 0x7f3c8f010750>],\n",
              " <a list of 5 Text major ticklabel objects>)"
            ]
          },
          "metadata": {
            "tags": []
          },
          "execution_count": 15
        },
        {
          "output_type": "display_data",
          "data": {
            "image/png": "[encoded data removed]",
            "text/plain": [
              "<Figure size 402.375x360 with 1 Axes>"
            ]
          },
          "metadata": {
            "tags": [],
            "needs_background": "light"
          }
        }
      ]
    },
    {
      "cell_type": "code",
      "metadata": {
        "id": "sAX-W8MXKuJA",
        "colab": {
          "base_uri": "https://localhost:8080/",
          "height": 485
        },
        "outputId": "8f399ad7-c46b-42d8-83d6-2896ce93a2e3"
      },
      "source": [
        "sns.lmplot(x=\"Sort\", y=\"Algo\", data=data,hue='Algo')\n",
        "plt.yticks([1,2,3,4,5])\n"
      ],
      "execution_count": null,
      "outputs": [
        {
          "output_type": "execute_result",
          "data": {
            "text/plain": [
              "([<matplotlib.axis.YTick at 0x7f3c97b87950>,\n",
              "  <matplotlib.axis.YTick at 0x7f3c8efa0910>,\n",
              "  <matplotlib.axis.YTick at 0x7f3c8effefd0>,\n",
              "  <matplotlib.axis.YTick at 0x7f3c8ef56310>,\n",
              "  <matplotlib.axis.YTick at 0x7f3c8ef56850>],\n",
              " <a list of 5 Text major ticklabel objects>)"
            ]
          },
          "metadata": {
            "tags": []
          },
          "execution_count": 16
        },
        {
          "output_type": "display_data",
          "data": {
            "image/png": "[encoded data removed]",
            "text/plain": [
              "<Figure size 402.375x360 with 1 Axes>"
            ]
          },
          "metadata": {
            "tags": [],
            "needs_background": "light"
          }
        }
      ]
    },
    {
      "cell_type": "code",
      "metadata": {
        "id": "qRQghTRmKx9a"
      },
      "source": [
        "\n",
        "from tensorflow.keras.models import Sequential \n",
        "from tensorflow.keras.layers import Dense,Dropout,Activation\n",
        "from tensorflow.keras.optimizers import SGD"
      ],
      "execution_count": null,
      "outputs": []
    },
    {
      "cell_type": "code",
      "metadata": {
        "id": "Sz9MA2l5LFFQ",
        "colab": {
          "base_uri": "https://localhost:8080/",
          "height": 419
        },
        "outputId": "1b03c9ed-f848-416f-89c5-3337a6804088"
      },
      "source": [
        "X = data.iloc[:, :4]\n",
        "X\n",
        "\n"
      ],
      "execution_count": null,
      "outputs": [
        {
          "output_type": "execute_result",
          "data": {
            "text/html": [
              "<div>\n",
              "<style scoped>\n",
              "    .dataframe tbody tr th:only-of-type {\n",
              "        vertical-align: middle;\n",
              "    }\n",
              "\n",
              "    .dataframe tbody tr th {\n",
              "        vertical-align: top;\n",
              "    }\n",
              "\n",
              "    .dataframe thead th {\n",
              "        text-align: right;\n",
              "    }\n",
              "</style>\n",
              "<table border=\"1\" class=\"dataframe\">\n",
              "  <thead>\n",
              "    <tr style=\"text-align: right;\">\n",
              "      <th></th>\n",
              "      <th>Order</th>\n",
              "      <th>Duplicacy</th>\n",
              "      <th>Repeatation</th>\n",
              "      <th>Sort</th>\n",
              "    </tr>\n",
              "  </thead>\n",
              "  <tbody>\n",
              "    <tr>\n",
              "      <th>0</th>\n",
              "      <td>3</td>\n",
              "      <td>0.115820</td>\n",
              "      <td>0.124954</td>\n",
              "      <td>1.000000</td>\n",
              "    </tr>\n",
              "    <tr>\n",
              "      <th>1</th>\n",
              "      <td>2</td>\n",
              "      <td>0.041667</td>\n",
              "      <td>0.041667</td>\n",
              "      <td>0.995833</td>\n",
              "    </tr>\n",
              "    <tr>\n",
              "      <th>2</th>\n",
              "      <td>3</td>\n",
              "      <td>0.273668</td>\n",
              "      <td>0.668710</td>\n",
              "      <td>0.999455</td>\n",
              "    </tr>\n",
              "    <tr>\n",
              "      <th>3</th>\n",
              "      <td>3</td>\n",
              "      <td>0.246874</td>\n",
              "      <td>0.725621</td>\n",
              "      <td>0.999000</td>\n",
              "    </tr>\n",
              "    <tr>\n",
              "      <th>4</th>\n",
              "      <td>3</td>\n",
              "      <td>0.061685</td>\n",
              "      <td>0.063423</td>\n",
              "      <td>1.000000</td>\n",
              "    </tr>\n",
              "    <tr>\n",
              "      <th>...</th>\n",
              "      <td>...</td>\n",
              "      <td>...</td>\n",
              "      <td>...</td>\n",
              "      <td>...</td>\n",
              "    </tr>\n",
              "    <tr>\n",
              "      <th>5708</th>\n",
              "      <td>2</td>\n",
              "      <td>0.006067</td>\n",
              "      <td>0.993933</td>\n",
              "      <td>0.806876</td>\n",
              "    </tr>\n",
              "    <tr>\n",
              "      <th>5709</th>\n",
              "      <td>3</td>\n",
              "      <td>0.006890</td>\n",
              "      <td>0.993110</td>\n",
              "      <td>0.851378</td>\n",
              "    </tr>\n",
              "    <tr>\n",
              "      <th>5710</th>\n",
              "      <td>2</td>\n",
              "      <td>0.007035</td>\n",
              "      <td>0.992965</td>\n",
              "      <td>0.847236</td>\n",
              "    </tr>\n",
              "    <tr>\n",
              "      <th>5711</th>\n",
              "      <td>3</td>\n",
              "      <td>0.004579</td>\n",
              "      <td>0.995421</td>\n",
              "      <td>0.815018</td>\n",
              "    </tr>\n",
              "    <tr>\n",
              "      <th>5712</th>\n",
              "      <td>0</td>\n",
              "      <td>0.500000</td>\n",
              "      <td>0.500000</td>\n",
              "      <td>0.000000</td>\n",
              "    </tr>\n",
              "  </tbody>\n",
              "</table>\n",
              "<p>5713 rows × 4 columns</p>\n",
              "</div>"
            ],
            "text/plain": [
              "      Order  Duplicacy  Repeatation      Sort\n",
              "0         3   0.115820     0.124954  1.000000\n",
              "1         2   0.041667     0.041667  0.995833\n",
              "2         3   0.273668     0.668710  0.999455\n",
              "3         3   0.246874     0.725621  0.999000\n",
              "4         3   0.061685     0.063423  1.000000\n",
              "...     ...        ...          ...       ...\n",
              "5708      2   0.006067     0.993933  0.806876\n",
              "5709      3   0.006890     0.993110  0.851378\n",
              "5710      2   0.007035     0.992965  0.847236\n",
              "5711      3   0.004579     0.995421  0.815018\n",
              "5712      0   0.500000     0.500000  0.000000\n",
              "\n",
              "[5713 rows x 4 columns]"
            ]
          },
          "metadata": {
            "tags": []
          },
          "execution_count": 18
        }
      ]
    },
    {
      "cell_type": "code",
      "metadata": {
        "id": "NA3LiW4bMfsG",
        "colab": {
          "base_uri": "https://localhost:8080/",
          "height": 419
        },
        "outputId": "24a62a96-990e-4dd7-a86d-f2117da7692b"
      },
      "source": [
        "y = data.iloc[:,4: ]\n",
        "y"
      ],
      "execution_count": null,
      "outputs": [
        {
          "output_type": "execute_result",
          "data": {
            "text/html": [
              "<div>\n",
              "<style scoped>\n",
              "    .dataframe tbody tr th:only-of-type {\n",
              "        vertical-align: middle;\n",
              "    }\n",
              "\n",
              "    .dataframe tbody tr th {\n",
              "        vertical-align: top;\n",
              "    }\n",
              "\n",
              "    .dataframe thead th {\n",
              "        text-align: right;\n",
              "    }\n",
              "</style>\n",
              "<table border=\"1\" class=\"dataframe\">\n",
              "  <thead>\n",
              "    <tr style=\"text-align: right;\">\n",
              "      <th></th>\n",
              "      <th>Algo</th>\n",
              "    </tr>\n",
              "  </thead>\n",
              "  <tbody>\n",
              "    <tr>\n",
              "      <th>0</th>\n",
              "      <td>4</td>\n",
              "    </tr>\n",
              "    <tr>\n",
              "      <th>1</th>\n",
              "      <td>4</td>\n",
              "    </tr>\n",
              "    <tr>\n",
              "      <th>2</th>\n",
              "      <td>4</td>\n",
              "    </tr>\n",
              "    <tr>\n",
              "      <th>3</th>\n",
              "      <td>4</td>\n",
              "    </tr>\n",
              "    <tr>\n",
              "      <th>4</th>\n",
              "      <td>3</td>\n",
              "    </tr>\n",
              "    <tr>\n",
              "      <th>...</th>\n",
              "      <td>...</td>\n",
              "    </tr>\n",
              "    <tr>\n",
              "      <th>5708</th>\n",
              "      <td>3</td>\n",
              "    </tr>\n",
              "    <tr>\n",
              "      <th>5709</th>\n",
              "      <td>4</td>\n",
              "    </tr>\n",
              "    <tr>\n",
              "      <th>5710</th>\n",
              "      <td>3</td>\n",
              "    </tr>\n",
              "    <tr>\n",
              "      <th>5711</th>\n",
              "      <td>3</td>\n",
              "    </tr>\n",
              "    <tr>\n",
              "      <th>5712</th>\n",
              "      <td>1</td>\n",
              "    </tr>\n",
              "  </tbody>\n",
              "</table>\n",
              "<p>5713 rows × 1 columns</p>\n",
              "</div>"
            ],
            "text/plain": [
              "      Algo\n",
              "0        4\n",
              "1        4\n",
              "2        4\n",
              "3        4\n",
              "4        3\n",
              "...    ...\n",
              "5708     3\n",
              "5709     4\n",
              "5710     3\n",
              "5711     3\n",
              "5712     1\n",
              "\n",
              "[5713 rows x 1 columns]"
            ]
          },
          "metadata": {
            "tags": []
          },
          "execution_count": 19
        }
      ]
    },
    {
      "cell_type": "code",
      "metadata": {
        "id": "lqP0r7-PPlGm",
        "colab": {
          "base_uri": "https://localhost:8080/"
        },
        "outputId": "b24bdd51-b251-403b-e255-fba6800a939c"
      },
      "source": [
        "data['Order'].unique()"
      ],
      "execution_count": null,
      "outputs": [
        {
          "output_type": "execute_result",
          "data": {
            "text/plain": [
              "array([3, 2, 1, 0, 4])"
            ]
          },
          "metadata": {
            "tags": []
          },
          "execution_count": 20
        }
      ]
    },
    {
      "cell_type": "code",
      "metadata": {
        "id": "XFFahYzrQi1i",
        "colab": {
          "base_uri": "https://localhost:8080/",
          "height": 419
        },
        "outputId": "1db590eb-c906-4f5f-d808-fba9073f6dbd"
      },
      "source": [
        "#other method\n",
        "#Create dummy variables\n",
        "X = data.iloc[:, :4]\n",
        "y = data.iloc[:,4: ]\n",
        "\n",
        "\n",
        "order=pd.get_dummies(X[\"Order\"],drop_first=True)\n",
        "X=pd.concat([X,order],axis=1)\n",
        "## Drop Unnecessary columns\n",
        "X=X.drop(['Order'],axis=1)\n",
        "X\n",
        "\n",
        "\n"
      ],
      "execution_count": null,
      "outputs": [
        {
          "output_type": "execute_result",
          "data": {
            "text/html": [
              "<div>\n",
              "<style scoped>\n",
              "    .dataframe tbody tr th:only-of-type {\n",
              "        vertical-align: middle;\n",
              "    }\n",
              "\n",
              "    .dataframe tbody tr th {\n",
              "        vertical-align: top;\n",
              "    }\n",
              "\n",
              "    .dataframe thead th {\n",
              "        text-align: right;\n",
              "    }\n",
              "</style>\n",
              "<table border=\"1\" class=\"dataframe\">\n",
              "  <thead>\n",
              "    <tr style=\"text-align: right;\">\n",
              "      <th></th>\n",
              "      <th>Duplicacy</th>\n",
              "      <th>Repeatation</th>\n",
              "      <th>Sort</th>\n",
              "      <th>1</th>\n",
              "      <th>2</th>\n",
              "      <th>3</th>\n",
              "      <th>4</th>\n",
              "    </tr>\n",
              "  </thead>\n",
              "  <tbody>\n",
              "    <tr>\n",
              "      <th>0</th>\n",
              "      <td>0.115820</td>\n",
              "      <td>0.124954</td>\n",
              "      <td>1.000000</td>\n",
              "      <td>0</td>\n",
              "      <td>0</td>\n",
              "      <td>1</td>\n",
              "      <td>0</td>\n",
              "    </tr>\n",
              "    <tr>\n",
              "      <th>1</th>\n",
              "      <td>0.041667</td>\n",
              "      <td>0.041667</td>\n",
              "      <td>0.995833</td>\n",
              "      <td>0</td>\n",
              "      <td>1</td>\n",
              "      <td>0</td>\n",
              "      <td>0</td>\n",
              "    </tr>\n",
              "    <tr>\n",
              "      <th>2</th>\n",
              "      <td>0.273668</td>\n",
              "      <td>0.668710</td>\n",
              "      <td>0.999455</td>\n",
              "      <td>0</td>\n",
              "      <td>0</td>\n",
              "      <td>1</td>\n",
              "      <td>0</td>\n",
              "    </tr>\n",
              "    <tr>\n",
              "      <th>3</th>\n",
              "      <td>0.246874</td>\n",
              "      <td>0.725621</td>\n",
              "      <td>0.999000</td>\n",
              "      <td>0</td>\n",
              "      <td>0</td>\n",
              "      <td>1</td>\n",
              "      <td>0</td>\n",
              "    </tr>\n",
              "    <tr>\n",
              "      <th>4</th>\n",
              "      <td>0.061685</td>\n",
              "      <td>0.063423</td>\n",
              "      <td>1.000000</td>\n",
              "      <td>0</td>\n",
              "      <td>0</td>\n",
              "      <td>1</td>\n",
              "      <td>0</td>\n",
              "    </tr>\n",
              "    <tr>\n",
              "      <th>...</th>\n",
              "      <td>...</td>\n",
              "      <td>...</td>\n",
              "      <td>...</td>\n",
              "      <td>...</td>\n",
              "      <td>...</td>\n",
              "      <td>...</td>\n",
              "      <td>...</td>\n",
              "    </tr>\n",
              "    <tr>\n",
              "      <th>5708</th>\n",
              "      <td>0.006067</td>\n",
              "      <td>0.993933</td>\n",
              "      <td>0.806876</td>\n",
              "      <td>0</td>\n",
              "      <td>1</td>\n",
              "      <td>0</td>\n",
              "      <td>0</td>\n",
              "    </tr>\n",
              "    <tr>\n",
              "      <th>5709</th>\n",
              "      <td>0.006890</td>\n",
              "      <td>0.993110</td>\n",
              "      <td>0.851378</td>\n",
              "      <td>0</td>\n",
              "      <td>0</td>\n",
              "      <td>1</td>\n",
              "      <td>0</td>\n",
              "    </tr>\n",
              "    <tr>\n",
              "      <th>5710</th>\n",
              "      <td>0.007035</td>\n",
              "      <td>0.992965</td>\n",
              "      <td>0.847236</td>\n",
              "      <td>0</td>\n",
              "      <td>1</td>\n",
              "      <td>0</td>\n",
              "      <td>0</td>\n",
              "    </tr>\n",
              "    <tr>\n",
              "      <th>5711</th>\n",
              "      <td>0.004579</td>\n",
              "      <td>0.995421</td>\n",
              "      <td>0.815018</td>\n",
              "      <td>0</td>\n",
              "      <td>0</td>\n",
              "      <td>1</td>\n",
              "      <td>0</td>\n",
              "    </tr>\n",
              "    <tr>\n",
              "      <th>5712</th>\n",
              "      <td>0.500000</td>\n",
              "      <td>0.500000</td>\n",
              "      <td>0.000000</td>\n",
              "      <td>0</td>\n",
              "      <td>0</td>\n",
              "      <td>0</td>\n",
              "      <td>0</td>\n",
              "    </tr>\n",
              "  </tbody>\n",
              "</table>\n",
              "<p>5713 rows × 7 columns</p>\n",
              "</div>"
            ],
            "text/plain": [
              "      Duplicacy  Repeatation      Sort  1  2  3  4\n",
              "0      0.115820     0.124954  1.000000  0  0  1  0\n",
              "1      0.041667     0.041667  0.995833  0  1  0  0\n",
              "2      0.273668     0.668710  0.999455  0  0  1  0\n",
              "3      0.246874     0.725621  0.999000  0  0  1  0\n",
              "4      0.061685     0.063423  1.000000  0  0  1  0\n",
              "...         ...          ...       ... .. .. .. ..\n",
              "5708   0.006067     0.993933  0.806876  0  1  0  0\n",
              "5709   0.006890     0.993110  0.851378  0  0  1  0\n",
              "5710   0.007035     0.992965  0.847236  0  1  0  0\n",
              "5711   0.004579     0.995421  0.815018  0  0  1  0\n",
              "5712   0.500000     0.500000  0.000000  0  0  0  0\n",
              "\n",
              "[5713 rows x 7 columns]"
            ]
          },
          "metadata": {
            "tags": []
          },
          "execution_count": 21
        }
      ]
    },
    {
      "cell_type": "code",
      "metadata": {
        "id": "nfHSlI_vtbdB",
        "colab": {
          "base_uri": "https://localhost:8080/"
        },
        "outputId": "786edb0d-7207-45b1-80cd-6623e0755592"
      },
      "source": [
        "X.columns"
      ],
      "execution_count": null,
      "outputs": [
        {
          "output_type": "execute_result",
          "data": {
            "text/plain": [
              "Index(['Duplicacy', 'Repeatation', 'Sort', 1, 2, 3, 4], dtype='object')"
            ]
          },
          "metadata": {
            "tags": []
          },
          "execution_count": 22
        }
      ]
    },
    {
      "cell_type": "code",
      "metadata": {
        "id": "QfNm8znlcvTZ",
        "colab": {
          "base_uri": "https://localhost:8080/"
        },
        "outputId": "b56ec107-215b-4e9a-ebc2-d6b489a4c117"
      },
      "source": [
        "from sklearn.model_selection import train_test_split\n",
        "X_train, X_test, y_train, y_test = train_test_split(X, y, test_size=0.30, random_state=42)\n",
        "X_train=np.array(X_train)\n",
        "X_train"
      ],
      "execution_count": null,
      "outputs": [
        {
          "output_type": "execute_result",
          "data": {
            "text/plain": [
              "array([[0.05621166, 0.94378834, 0.998169  , ..., 0.        , 0.        ,\n",
              "        1.        ],\n",
              "       [0.00789733, 0.99210267, 0.88548865, ..., 0.        , 1.        ,\n",
              "        0.        ],\n",
              "       [0.00431034, 0.99568966, 0.73491379, ..., 1.        , 0.        ,\n",
              "        0.        ],\n",
              "       ...,\n",
              "       [0.00206186, 0.99793814, 0.49072165, ..., 1.        , 0.        ,\n",
              "        0.        ],\n",
              "       [0.00713558, 0.99286442, 0.85728848, ..., 1.        , 0.        ,\n",
              "        0.        ],\n",
              "       [0.        , 0.        , 0.5       , ..., 0.        , 0.        ,\n",
              "        0.        ]])"
            ]
          },
          "metadata": {
            "tags": []
          },
          "execution_count": 23
        }
      ]
    },
    {
      "cell_type": "code",
      "metadata": {
        "id": "MowEDvtKfS0Q",
        "colab": {
          "base_uri": "https://localhost:8080/"
        },
        "outputId": "0bb8eefd-2184-40f7-ed07-58d95a537530"
      },
      "source": [
        "X_train.shape"
      ],
      "execution_count": null,
      "outputs": [
        {
          "output_type": "execute_result",
          "data": {
            "text/plain": [
              "(3999, 7)"
            ]
          },
          "metadata": {
            "tags": []
          },
          "execution_count": 24
        }
      ]
    },
    {
      "cell_type": "code",
      "metadata": {
        "id": "xrvoxgGVSee5"
      },
      "source": [
        "X_test=np.array(X_test)"
      ],
      "execution_count": null,
      "outputs": []
    },
    {
      "cell_type": "code",
      "metadata": {
        "id": "RK_MFrQsVdhq",
        "colab": {
          "base_uri": "https://localhost:8080/"
        },
        "outputId": "30ad786b-098a-48b4-b5d9-e5af3d01a62b"
      },
      "source": [
        "X_test"
      ],
      "execution_count": null,
      "outputs": [
        {
          "output_type": "execute_result",
          "data": {
            "text/plain": [
              "array([[0.00210526, 0.99789474, 0.        , ..., 1.        , 0.        ,\n",
              "        0.        ],\n",
              "       [0.20512821, 0.78974359, 0.99145299, ..., 1.        , 0.        ,\n",
              "        0.        ],\n",
              "       [0.        , 0.        , 0.        , ..., 0.        , 0.        ,\n",
              "        0.        ],\n",
              "       ...,\n",
              "       [0.125     , 0.14285714, 0.98214286, ..., 0.        , 0.        ,\n",
              "        0.        ],\n",
              "       [0.01098901, 0.98901099, 0.        , ..., 0.        , 0.        ,\n",
              "        0.        ],\n",
              "       [0.03191489, 0.03191489, 1.        , ..., 0.        , 0.        ,\n",
              "        0.        ]])"
            ]
          },
          "metadata": {
            "tags": []
          },
          "execution_count": 26
        }
      ]
    },
    {
      "cell_type": "code",
      "metadata": {
        "id": "r2UOlymSVgWC",
        "colab": {
          "base_uri": "https://localhost:8080/"
        },
        "outputId": "7fff061b-82ec-4609-b0eb-42e8f39a8289"
      },
      "source": [
        "y_test=np.array(y_test)\n",
        "y_test"
      ],
      "execution_count": null,
      "outputs": [
        {
          "output_type": "execute_result",
          "data": {
            "text/plain": [
              "array([[5],\n",
              "       [3],\n",
              "       [1],\n",
              "       ...,\n",
              "       [1],\n",
              "       [5],\n",
              "       [4]])"
            ]
          },
          "metadata": {
            "tags": []
          },
          "execution_count": 27
        }
      ]
    },
    {
      "cell_type": "code",
      "metadata": {
        "id": "Alff2Eb0Vj9P"
      },
      "source": [
        "y_train=np.array(y_train)"
      ],
      "execution_count": null,
      "outputs": []
    },
    {
      "cell_type": "code",
      "metadata": {
        "id": "AJRro86wVpMS",
        "colab": {
          "base_uri": "https://localhost:8080/"
        },
        "outputId": "1a886b4e-ddd9-42b1-e5f6-ed8db0a9e5d5"
      },
      "source": [
        "from tensorflow.keras.utils import to_categorical\n",
        "y_train = to_categorical(y_train)\n",
        "y_train"
      ],
      "execution_count": null,
      "outputs": [
        {
          "output_type": "execute_result",
          "data": {
            "text/plain": [
              "array([[0., 0., 0., 0., 1., 0.],\n",
              "       [0., 0., 0., 1., 0., 0.],\n",
              "       [0., 0., 0., 1., 0., 0.],\n",
              "       ...,\n",
              "       [0., 0., 0., 1., 0., 0.],\n",
              "       [0., 0., 0., 1., 0., 0.],\n",
              "       [0., 1., 0., 0., 0., 0.]], dtype=float32)"
            ]
          },
          "metadata": {
            "tags": []
          },
          "execution_count": 29
        }
      ]
    },
    {
      "cell_type": "code",
      "metadata": {
        "id": "JUc_GKBFVspR"
      },
      "source": [
        "y_train.shape\n",
        "y_test = to_categorical(y_test)"
      ],
      "execution_count": null,
      "outputs": []
    },
    {
      "cell_type": "code",
      "metadata": {
        "id": "fl-D0DQyVyLY",
        "colab": {
          "base_uri": "https://localhost:8080/"
        },
        "outputId": "5b42f70e-595b-424d-dddf-adc9f80b7a42"
      },
      "source": [
        "model=Sequential()\n",
        "model.add(Dense(256,kernel_initializer= 'he_normal',activation='relu',input_dim=7))\n",
        "model.add(Dropout(0))\n",
        "model.add(Dense(256,kernel_initializer= 'he_normal',activation='relu'))\n",
        "model.add(Dropout(0))\n",
        "model.add(Dense(6,kernel_initializer='glorot_uniform',activation='sigmoid'))\n",
        "\n",
        "sgd=SGD(lr=0.001,decay=1e-6,momentum=0.9,nesterov=True)"
      ],
      "execution_count": null,
      "outputs": [
        {
          "output_type": "stream",
          "text": [
            "/usr/local/lib/python3.7/dist-packages/tensorflow/python/keras/optimizer_v2/optimizer_v2.py:375: UserWarning: The `lr` argument is deprecated, use `learning_rate` instead.\n",
            "  \"The `lr` argument is deprecated, use `learning_rate` instead.\")\n"
          ],
          "name": "stderr"
        }
      ]
    },
    {
      "cell_type": "code",
      "metadata": {
        "id": "-fqh_cXOV2wV"
      },
      "source": [
        "model.compile(loss='categorical_crossentropy',optimizer=sgd,metrics=['accuracy'])"
      ],
      "execution_count": null,
      "outputs": []
    },
    {
      "cell_type": "code",
      "metadata": {
        "id": "fjbxO5_NWFOW",
        "colab": {
          "base_uri": "https://localhost:8080/"
        },
        "outputId": "d2e41cb8-1458-4e42-ebfd-1b2d45963e9f"
      },
      "source": [
        "model_hisrory=model.fit(X_train,y_train,batch_size=8,validation_split=0.3,epochs=500)"
      ],
      "execution_count": null,
      "outputs": [
        {
          "output_type": "stream",
          "text": [
            "Epoch 1/500\n",
            "350/350 [==============================] - 4s 3ms/step - loss: 0.8118 - accuracy: 0.7303 - val_loss: 0.6274 - val_accuracy: 0.7658\n",
            "Epoch 2/500\n",
            "350/350 [==============================] - 1s 3ms/step - loss: 0.5640 - accuracy: 0.8074 - val_loss: 0.5076 - val_accuracy: 0.8350\n",
            "Epoch 3/500\n",
            "350/350 [==============================] - 1s 3ms/step - loss: 0.5072 - accuracy: 0.8049 - val_loss: 0.4870 - val_accuracy: 0.8150\n",
            "Epoch 4/500\n",
            "350/350 [==============================] - 1s 3ms/step - loss: 0.4890 - accuracy: 0.8028 - val_loss: 0.4801 - val_accuracy: 0.8067\n",
            "Epoch 5/500\n",
            "350/350 [==============================] - 1s 3ms/step - loss: 0.4783 - accuracy: 0.8056 - val_loss: 0.4644 - val_accuracy: 0.8208\n",
            "Epoch 6/500\n",
            "350/350 [==============================] - 1s 3ms/step - loss: 0.4722 - accuracy: 0.8056 - val_loss: 0.4370 - val_accuracy: 0.8275\n",
            "Epoch 7/500\n",
            "350/350 [==============================] - 1s 3ms/step - loss: 0.4633 - accuracy: 0.8121 - val_loss: 0.4356 - val_accuracy: 0.8492\n",
            "Epoch 8/500\n",
            "350/350 [==============================] - 1s 3ms/step - loss: 0.4665 - accuracy: 0.8071 - val_loss: 0.4298 - val_accuracy: 0.8617\n",
            "Epoch 9/500\n",
            "350/350 [==============================] - 1s 3ms/step - loss: 0.4605 - accuracy: 0.8167 - val_loss: 0.4323 - val_accuracy: 0.8125\n",
            "Epoch 10/500\n",
            "350/350 [==============================] - 1s 3ms/step - loss: 0.4507 - accuracy: 0.8167 - val_loss: 0.4347 - val_accuracy: 0.8150\n",
            "Epoch 11/500\n",
            "350/350 [==============================] - 1s 3ms/step - loss: 0.4542 - accuracy: 0.8149 - val_loss: 0.4460 - val_accuracy: 0.8150\n",
            "Epoch 12/500\n",
            "350/350 [==============================] - 1s 3ms/step - loss: 0.4438 - accuracy: 0.8192 - val_loss: 0.4761 - val_accuracy: 0.8017\n",
            "Epoch 13/500\n",
            "350/350 [==============================] - 1s 3ms/step - loss: 0.4500 - accuracy: 0.8185 - val_loss: 0.4330 - val_accuracy: 0.8508\n",
            "Epoch 14/500\n",
            "350/350 [==============================] - 1s 3ms/step - loss: 0.4475 - accuracy: 0.8156 - val_loss: 0.4201 - val_accuracy: 0.8342\n",
            "Epoch 15/500\n",
            "350/350 [==============================] - 1s 3ms/step - loss: 0.4437 - accuracy: 0.8224 - val_loss: 0.4126 - val_accuracy: 0.8600\n",
            "Epoch 16/500\n",
            "350/350 [==============================] - 1s 3ms/step - loss: 0.4426 - accuracy: 0.8174 - val_loss: 0.4151 - val_accuracy: 0.8333\n",
            "Epoch 17/500\n",
            "350/350 [==============================] - 1s 3ms/step - loss: 0.4407 - accuracy: 0.8181 - val_loss: 0.4312 - val_accuracy: 0.8383\n",
            "Epoch 18/500\n",
            "350/350 [==============================] - 1s 3ms/step - loss: 0.4379 - accuracy: 0.8228 - val_loss: 0.4115 - val_accuracy: 0.8600\n",
            "Epoch 19/500\n",
            "350/350 [==============================] - 1s 3ms/step - loss: 0.4404 - accuracy: 0.8232 - val_loss: 0.4156 - val_accuracy: 0.8358\n",
            "Epoch 20/500\n",
            "350/350 [==============================] - 1s 3ms/step - loss: 0.4375 - accuracy: 0.8232 - val_loss: 0.4122 - val_accuracy: 0.8575\n",
            "Epoch 21/500\n",
            "350/350 [==============================] - 1s 3ms/step - loss: 0.4345 - accuracy: 0.8214 - val_loss: 0.4041 - val_accuracy: 0.8308\n",
            "Epoch 22/500\n",
            "350/350 [==============================] - 1s 3ms/step - loss: 0.4323 - accuracy: 0.8321 - val_loss: 0.4029 - val_accuracy: 0.8317\n",
            "Epoch 23/500\n",
            "350/350 [==============================] - 1s 3ms/step - loss: 0.4336 - accuracy: 0.8239 - val_loss: 0.4163 - val_accuracy: 0.8333\n",
            "Epoch 24/500\n",
            "350/350 [==============================] - 1s 3ms/step - loss: 0.4287 - accuracy: 0.8242 - val_loss: 0.4382 - val_accuracy: 0.8217\n",
            "Epoch 25/500\n",
            "350/350 [==============================] - 1s 3ms/step - loss: 0.4287 - accuracy: 0.8242 - val_loss: 0.4177 - val_accuracy: 0.8567\n",
            "Epoch 26/500\n",
            "350/350 [==============================] - 1s 3ms/step - loss: 0.4249 - accuracy: 0.8346 - val_loss: 0.4142 - val_accuracy: 0.8575\n",
            "Epoch 27/500\n",
            "350/350 [==============================] - 1s 3ms/step - loss: 0.4282 - accuracy: 0.8239 - val_loss: 0.4125 - val_accuracy: 0.8283\n",
            "Epoch 28/500\n",
            "350/350 [==============================] - 1s 3ms/step - loss: 0.4286 - accuracy: 0.8285 - val_loss: 0.3999 - val_accuracy: 0.8400\n",
            "Epoch 29/500\n",
            "350/350 [==============================] - 1s 3ms/step - loss: 0.4231 - accuracy: 0.8346 - val_loss: 0.4178 - val_accuracy: 0.8233\n",
            "Epoch 30/500\n",
            "350/350 [==============================] - 1s 3ms/step - loss: 0.4224 - accuracy: 0.8314 - val_loss: 0.3994 - val_accuracy: 0.8500\n",
            "Epoch 31/500\n",
            "350/350 [==============================] - 1s 3ms/step - loss: 0.4235 - accuracy: 0.8314 - val_loss: 0.3926 - val_accuracy: 0.8608\n",
            "Epoch 32/500\n",
            "350/350 [==============================] - 1s 3ms/step - loss: 0.4203 - accuracy: 0.8267 - val_loss: 0.4079 - val_accuracy: 0.8300\n",
            "Epoch 33/500\n",
            "350/350 [==============================] - 1s 3ms/step - loss: 0.4233 - accuracy: 0.8285 - val_loss: 0.3976 - val_accuracy: 0.8317\n",
            "Epoch 34/500\n",
            "350/350 [==============================] - 1s 3ms/step - loss: 0.4183 - accuracy: 0.8353 - val_loss: 0.4147 - val_accuracy: 0.8192\n",
            "Epoch 35/500\n",
            "350/350 [==============================] - 1s 3ms/step - loss: 0.4188 - accuracy: 0.8328 - val_loss: 0.3900 - val_accuracy: 0.8633\n",
            "Epoch 36/500\n",
            "350/350 [==============================] - 1s 3ms/step - loss: 0.4176 - accuracy: 0.8371 - val_loss: 0.4016 - val_accuracy: 0.8483\n",
            "Epoch 37/500\n",
            "350/350 [==============================] - 1s 3ms/step - loss: 0.4140 - accuracy: 0.8360 - val_loss: 0.4329 - val_accuracy: 0.8192\n",
            "Epoch 38/500\n",
            "350/350 [==============================] - 1s 3ms/step - loss: 0.4132 - accuracy: 0.8321 - val_loss: 0.3991 - val_accuracy: 0.8375\n",
            "Epoch 39/500\n",
            "350/350 [==============================] - 1s 3ms/step - loss: 0.4158 - accuracy: 0.8339 - val_loss: 0.4017 - val_accuracy: 0.8433\n",
            "Epoch 40/500\n",
            "350/350 [==============================] - 1s 3ms/step - loss: 0.4107 - accuracy: 0.8392 - val_loss: 0.3914 - val_accuracy: 0.8500\n",
            "Epoch 41/500\n",
            "350/350 [==============================] - 1s 3ms/step - loss: 0.4101 - accuracy: 0.8403 - val_loss: 0.3961 - val_accuracy: 0.8567\n",
            "Epoch 42/500\n",
            "350/350 [==============================] - 1s 3ms/step - loss: 0.4093 - accuracy: 0.8428 - val_loss: 0.3986 - val_accuracy: 0.8500\n",
            "Epoch 43/500\n",
            "350/350 [==============================] - 1s 3ms/step - loss: 0.4155 - accuracy: 0.8357 - val_loss: 0.4082 - val_accuracy: 0.8267\n",
            "Epoch 44/500\n",
            "350/350 [==============================] - 1s 3ms/step - loss: 0.4129 - accuracy: 0.8360 - val_loss: 0.3885 - val_accuracy: 0.8383\n",
            "Epoch 45/500\n",
            "350/350 [==============================] - 1s 3ms/step - loss: 0.4103 - accuracy: 0.8392 - val_loss: 0.3924 - val_accuracy: 0.8408\n",
            "Epoch 46/500\n",
            "350/350 [==============================] - 1s 3ms/step - loss: 0.4109 - accuracy: 0.8392 - val_loss: 0.3959 - val_accuracy: 0.8608\n",
            "Epoch 47/500\n",
            "350/350 [==============================] - 1s 3ms/step - loss: 0.4128 - accuracy: 0.8389 - val_loss: 0.3814 - val_accuracy: 0.8608\n",
            "Epoch 48/500\n",
            "350/350 [==============================] - 1s 3ms/step - loss: 0.4095 - accuracy: 0.8367 - val_loss: 0.3984 - val_accuracy: 0.8292\n",
            "Epoch 49/500\n",
            "350/350 [==============================] - 1s 3ms/step - loss: 0.4064 - accuracy: 0.8392 - val_loss: 0.3991 - val_accuracy: 0.8283\n",
            "Epoch 50/500\n",
            "350/350 [==============================] - 1s 3ms/step - loss: 0.4108 - accuracy: 0.8449 - val_loss: 0.3940 - val_accuracy: 0.8383\n",
            "Epoch 51/500\n",
            "350/350 [==============================] - 1s 3ms/step - loss: 0.4134 - accuracy: 0.8371 - val_loss: 0.4401 - val_accuracy: 0.8175\n",
            "Epoch 52/500\n",
            "350/350 [==============================] - 1s 3ms/step - loss: 0.4091 - accuracy: 0.8353 - val_loss: 0.3966 - val_accuracy: 0.8400\n",
            "Epoch 53/500\n",
            "350/350 [==============================] - 1s 3ms/step - loss: 0.4068 - accuracy: 0.8410 - val_loss: 0.3811 - val_accuracy: 0.8625\n",
            "Epoch 54/500\n",
            "350/350 [==============================] - 1s 3ms/step - loss: 0.4051 - accuracy: 0.8407 - val_loss: 0.4095 - val_accuracy: 0.8458\n",
            "Epoch 55/500\n",
            "350/350 [==============================] - 1s 3ms/step - loss: 0.4049 - accuracy: 0.8424 - val_loss: 0.3845 - val_accuracy: 0.8658\n",
            "Epoch 56/500\n",
            "350/350 [==============================] - 1s 3ms/step - loss: 0.4030 - accuracy: 0.8417 - val_loss: 0.3979 - val_accuracy: 0.8483\n",
            "Epoch 57/500\n",
            "350/350 [==============================] - 1s 3ms/step - loss: 0.4051 - accuracy: 0.8421 - val_loss: 0.4214 - val_accuracy: 0.8283\n",
            "Epoch 58/500\n",
            "350/350 [==============================] - 1s 3ms/step - loss: 0.4052 - accuracy: 0.8417 - val_loss: 0.3843 - val_accuracy: 0.8575\n",
            "Epoch 59/500\n",
            "350/350 [==============================] - 1s 3ms/step - loss: 0.4046 - accuracy: 0.8410 - val_loss: 0.3864 - val_accuracy: 0.8558\n",
            "Epoch 60/500\n",
            "350/350 [==============================] - 1s 3ms/step - loss: 0.4027 - accuracy: 0.8432 - val_loss: 0.3797 - val_accuracy: 0.8592\n",
            "Epoch 61/500\n",
            "350/350 [==============================] - 1s 3ms/step - loss: 0.4019 - accuracy: 0.8435 - val_loss: 0.3862 - val_accuracy: 0.8383\n",
            "Epoch 62/500\n",
            "350/350 [==============================] - 1s 3ms/step - loss: 0.3981 - accuracy: 0.8432 - val_loss: 0.3852 - val_accuracy: 0.8358\n",
            "Epoch 63/500\n",
            "350/350 [==============================] - 1s 3ms/step - loss: 0.4024 - accuracy: 0.8435 - val_loss: 0.3841 - val_accuracy: 0.8617\n",
            "Epoch 64/500\n",
            "350/350 [==============================] - 1s 3ms/step - loss: 0.4054 - accuracy: 0.8396 - val_loss: 0.3907 - val_accuracy: 0.8492\n",
            "Epoch 65/500\n",
            "350/350 [==============================] - 1s 3ms/step - loss: 0.4012 - accuracy: 0.8407 - val_loss: 0.3720 - val_accuracy: 0.8667\n",
            "Epoch 66/500\n",
            "350/350 [==============================] - 1s 3ms/step - loss: 0.3980 - accuracy: 0.8407 - val_loss: 0.3798 - val_accuracy: 0.8550\n",
            "Epoch 67/500\n",
            "350/350 [==============================] - 1s 3ms/step - loss: 0.4008 - accuracy: 0.8485 - val_loss: 0.3905 - val_accuracy: 0.8558\n",
            "Epoch 68/500\n",
            "350/350 [==============================] - 1s 3ms/step - loss: 0.3971 - accuracy: 0.8464 - val_loss: 0.3921 - val_accuracy: 0.8433\n",
            "Epoch 69/500\n",
            "350/350 [==============================] - 1s 3ms/step - loss: 0.4006 - accuracy: 0.8449 - val_loss: 0.3796 - val_accuracy: 0.8592\n",
            "Epoch 70/500\n",
            "350/350 [==============================] - 1s 3ms/step - loss: 0.3987 - accuracy: 0.8424 - val_loss: 0.3792 - val_accuracy: 0.8517\n",
            "Epoch 71/500\n",
            "350/350 [==============================] - 1s 3ms/step - loss: 0.3984 - accuracy: 0.8442 - val_loss: 0.3761 - val_accuracy: 0.8600\n",
            "Epoch 72/500\n",
            "350/350 [==============================] - 1s 3ms/step - loss: 0.3966 - accuracy: 0.8442 - val_loss: 0.3808 - val_accuracy: 0.8525\n",
            "Epoch 73/500\n",
            "350/350 [==============================] - 1s 3ms/step - loss: 0.3978 - accuracy: 0.8424 - val_loss: 0.3833 - val_accuracy: 0.8533\n",
            "Epoch 74/500\n",
            "350/350 [==============================] - 1s 3ms/step - loss: 0.3983 - accuracy: 0.8371 - val_loss: 0.3800 - val_accuracy: 0.8683\n",
            "Epoch 75/500\n",
            "350/350 [==============================] - 1s 3ms/step - loss: 0.3993 - accuracy: 0.8424 - val_loss: 0.3769 - val_accuracy: 0.8533\n",
            "Epoch 76/500\n",
            "350/350 [==============================] - 1s 3ms/step - loss: 0.4017 - accuracy: 0.8407 - val_loss: 0.3902 - val_accuracy: 0.8367\n",
            "Epoch 77/500\n",
            "350/350 [==============================] - 1s 3ms/step - loss: 0.3971 - accuracy: 0.8414 - val_loss: 0.3721 - val_accuracy: 0.8567\n",
            "Epoch 78/500\n",
            "350/350 [==============================] - 1s 3ms/step - loss: 0.3996 - accuracy: 0.8460 - val_loss: 0.3712 - val_accuracy: 0.8617\n",
            "Epoch 79/500\n",
            "350/350 [==============================] - 1s 3ms/step - loss: 0.3943 - accuracy: 0.8414 - val_loss: 0.3825 - val_accuracy: 0.8567\n",
            "Epoch 80/500\n",
            "350/350 [==============================] - 1s 3ms/step - loss: 0.3957 - accuracy: 0.8435 - val_loss: 0.3969 - val_accuracy: 0.8400\n",
            "Epoch 81/500\n",
            "350/350 [==============================] - 1s 3ms/step - loss: 0.3957 - accuracy: 0.8449 - val_loss: 0.3833 - val_accuracy: 0.8658\n",
            "Epoch 82/500\n",
            "350/350 [==============================] - 1s 3ms/step - loss: 0.3925 - accuracy: 0.8453 - val_loss: 0.3794 - val_accuracy: 0.8542\n",
            "Epoch 83/500\n",
            "350/350 [==============================] - 1s 3ms/step - loss: 0.3950 - accuracy: 0.8471 - val_loss: 0.3824 - val_accuracy: 0.8592\n",
            "Epoch 84/500\n",
            "350/350 [==============================] - 1s 3ms/step - loss: 0.3963 - accuracy: 0.8439 - val_loss: 0.3850 - val_accuracy: 0.8500\n",
            "Epoch 85/500\n",
            "350/350 [==============================] - 1s 3ms/step - loss: 0.3943 - accuracy: 0.8432 - val_loss: 0.3716 - val_accuracy: 0.8633\n",
            "Epoch 86/500\n",
            "350/350 [==============================] - 1s 3ms/step - loss: 0.3930 - accuracy: 0.8460 - val_loss: 0.3820 - val_accuracy: 0.8508\n",
            "Epoch 87/500\n",
            "350/350 [==============================] - 1s 3ms/step - loss: 0.3952 - accuracy: 0.8492 - val_loss: 0.3756 - val_accuracy: 0.8500\n",
            "Epoch 88/500\n",
            "350/350 [==============================] - 1s 3ms/step - loss: 0.3943 - accuracy: 0.8435 - val_loss: 0.3779 - val_accuracy: 0.8492\n",
            "Epoch 89/500\n",
            "350/350 [==============================] - 1s 3ms/step - loss: 0.3905 - accuracy: 0.8467 - val_loss: 0.3859 - val_accuracy: 0.8600\n",
            "Epoch 90/500\n",
            "350/350 [==============================] - 1s 3ms/step - loss: 0.3944 - accuracy: 0.8442 - val_loss: 0.3903 - val_accuracy: 0.8450\n",
            "Epoch 91/500\n",
            "350/350 [==============================] - 1s 3ms/step - loss: 0.3914 - accuracy: 0.8471 - val_loss: 0.3797 - val_accuracy: 0.8542\n",
            "Epoch 92/500\n",
            "350/350 [==============================] - 1s 3ms/step - loss: 0.3935 - accuracy: 0.8485 - val_loss: 0.4026 - val_accuracy: 0.8308\n",
            "Epoch 93/500\n",
            "350/350 [==============================] - 1s 3ms/step - loss: 0.3940 - accuracy: 0.8439 - val_loss: 0.3754 - val_accuracy: 0.8533\n",
            "Epoch 94/500\n",
            "350/350 [==============================] - 1s 3ms/step - loss: 0.3928 - accuracy: 0.8453 - val_loss: 0.3791 - val_accuracy: 0.8592\n",
            "Epoch 95/500\n",
            "350/350 [==============================] - 1s 3ms/step - loss: 0.3940 - accuracy: 0.8489 - val_loss: 0.3813 - val_accuracy: 0.8550\n",
            "Epoch 96/500\n",
            "350/350 [==============================] - 1s 3ms/step - loss: 0.3910 - accuracy: 0.8449 - val_loss: 0.3731 - val_accuracy: 0.8642\n",
            "Epoch 97/500\n",
            "350/350 [==============================] - 1s 3ms/step - loss: 0.3910 - accuracy: 0.8446 - val_loss: 0.3659 - val_accuracy: 0.8608\n",
            "Epoch 98/500\n",
            "350/350 [==============================] - 1s 3ms/step - loss: 0.3920 - accuracy: 0.8421 - val_loss: 0.3743 - val_accuracy: 0.8658\n",
            "Epoch 99/500\n",
            "350/350 [==============================] - 1s 3ms/step - loss: 0.3935 - accuracy: 0.8435 - val_loss: 0.3889 - val_accuracy: 0.8583\n",
            "Epoch 100/500\n",
            "350/350 [==============================] - 1s 3ms/step - loss: 0.3897 - accuracy: 0.8446 - val_loss: 0.3788 - val_accuracy: 0.8533\n",
            "Epoch 101/500\n",
            "350/350 [==============================] - 1s 3ms/step - loss: 0.3895 - accuracy: 0.8507 - val_loss: 0.3741 - val_accuracy: 0.8633\n",
            "Epoch 102/500\n",
            "350/350 [==============================] - 1s 3ms/step - loss: 0.3889 - accuracy: 0.8446 - val_loss: 0.3852 - val_accuracy: 0.8567\n",
            "Epoch 103/500\n",
            "350/350 [==============================] - 1s 3ms/step - loss: 0.3914 - accuracy: 0.8496 - val_loss: 0.3759 - val_accuracy: 0.8625\n",
            "Epoch 104/500\n",
            "350/350 [==============================] - 1s 3ms/step - loss: 0.3917 - accuracy: 0.8478 - val_loss: 0.3905 - val_accuracy: 0.8592\n",
            "Epoch 105/500\n",
            "350/350 [==============================] - 1s 3ms/step - loss: 0.3926 - accuracy: 0.8424 - val_loss: 0.3853 - val_accuracy: 0.8500\n",
            "Epoch 106/500\n",
            "350/350 [==============================] - 1s 3ms/step - loss: 0.3929 - accuracy: 0.8460 - val_loss: 0.3871 - val_accuracy: 0.8458\n",
            "Epoch 107/500\n",
            "350/350 [==============================] - 1s 3ms/step - loss: 0.3873 - accuracy: 0.8439 - val_loss: 0.3792 - val_accuracy: 0.8567\n",
            "Epoch 108/500\n",
            "350/350 [==============================] - 1s 3ms/step - loss: 0.3903 - accuracy: 0.8489 - val_loss: 0.3729 - val_accuracy: 0.8633\n",
            "Epoch 109/500\n",
            "350/350 [==============================] - 1s 3ms/step - loss: 0.3861 - accuracy: 0.8503 - val_loss: 0.3697 - val_accuracy: 0.8683\n",
            "Epoch 110/500\n",
            "350/350 [==============================] - 1s 3ms/step - loss: 0.3885 - accuracy: 0.8435 - val_loss: 0.3827 - val_accuracy: 0.8392\n",
            "Epoch 111/500\n",
            "350/350 [==============================] - 1s 3ms/step - loss: 0.3890 - accuracy: 0.8478 - val_loss: 0.3644 - val_accuracy: 0.8642\n",
            "Epoch 112/500\n",
            "350/350 [==============================] - 1s 3ms/step - loss: 0.3898 - accuracy: 0.8532 - val_loss: 0.3739 - val_accuracy: 0.8625\n",
            "Epoch 113/500\n",
            "350/350 [==============================] - 1s 3ms/step - loss: 0.3907 - accuracy: 0.8446 - val_loss: 0.3867 - val_accuracy: 0.8508\n",
            "Epoch 114/500\n",
            "350/350 [==============================] - 1s 3ms/step - loss: 0.3892 - accuracy: 0.8503 - val_loss: 0.3880 - val_accuracy: 0.8508\n",
            "Epoch 115/500\n",
            "350/350 [==============================] - 1s 3ms/step - loss: 0.3893 - accuracy: 0.8449 - val_loss: 0.4022 - val_accuracy: 0.8375\n",
            "Epoch 116/500\n",
            "350/350 [==============================] - 1s 3ms/step - loss: 0.3894 - accuracy: 0.8499 - val_loss: 0.3974 - val_accuracy: 0.8292\n",
            "Epoch 117/500\n",
            "350/350 [==============================] - 1s 3ms/step - loss: 0.3897 - accuracy: 0.8446 - val_loss: 0.3873 - val_accuracy: 0.8442\n",
            "Epoch 118/500\n",
            "350/350 [==============================] - 1s 3ms/step - loss: 0.3883 - accuracy: 0.8460 - val_loss: 0.3686 - val_accuracy: 0.8625\n",
            "Epoch 119/500\n",
            "350/350 [==============================] - 1s 3ms/step - loss: 0.3858 - accuracy: 0.8482 - val_loss: 0.3688 - val_accuracy: 0.8558\n",
            "Epoch 120/500\n",
            "350/350 [==============================] - 1s 3ms/step - loss: 0.3869 - accuracy: 0.8521 - val_loss: 0.3672 - val_accuracy: 0.8633\n",
            "Epoch 121/500\n",
            "350/350 [==============================] - 1s 3ms/step - loss: 0.3852 - accuracy: 0.8517 - val_loss: 0.3730 - val_accuracy: 0.8558\n",
            "Epoch 122/500\n",
            "350/350 [==============================] - 1s 3ms/step - loss: 0.3847 - accuracy: 0.8514 - val_loss: 0.3731 - val_accuracy: 0.8633\n",
            "Epoch 123/500\n",
            "350/350 [==============================] - 1s 3ms/step - loss: 0.3858 - accuracy: 0.8485 - val_loss: 0.3821 - val_accuracy: 0.8508\n",
            "Epoch 124/500\n",
            "350/350 [==============================] - 1s 3ms/step - loss: 0.3896 - accuracy: 0.8482 - val_loss: 0.3732 - val_accuracy: 0.8633\n",
            "Epoch 125/500\n",
            "350/350 [==============================] - 1s 3ms/step - loss: 0.3881 - accuracy: 0.8464 - val_loss: 0.3762 - val_accuracy: 0.8583\n",
            "Epoch 126/500\n",
            "350/350 [==============================] - 1s 3ms/step - loss: 0.3874 - accuracy: 0.8510 - val_loss: 0.3782 - val_accuracy: 0.8533\n",
            "Epoch 127/500\n",
            "350/350 [==============================] - 1s 3ms/step - loss: 0.3878 - accuracy: 0.8489 - val_loss: 0.3675 - val_accuracy: 0.8658\n",
            "Epoch 128/500\n",
            "350/350 [==============================] - 1s 3ms/step - loss: 0.3888 - accuracy: 0.8432 - val_loss: 0.3701 - val_accuracy: 0.8608\n",
            "Epoch 129/500\n",
            "350/350 [==============================] - 1s 3ms/step - loss: 0.3886 - accuracy: 0.8492 - val_loss: 0.3683 - val_accuracy: 0.8642\n",
            "Epoch 130/500\n",
            "350/350 [==============================] - 1s 3ms/step - loss: 0.3878 - accuracy: 0.8457 - val_loss: 0.3715 - val_accuracy: 0.8583\n",
            "Epoch 131/500\n",
            "350/350 [==============================] - 1s 3ms/step - loss: 0.3862 - accuracy: 0.8471 - val_loss: 0.3861 - val_accuracy: 0.8500\n",
            "Epoch 132/500\n",
            "350/350 [==============================] - 1s 3ms/step - loss: 0.3853 - accuracy: 0.8521 - val_loss: 0.3818 - val_accuracy: 0.8525\n",
            "Epoch 133/500\n",
            "350/350 [==============================] - 1s 3ms/step - loss: 0.3838 - accuracy: 0.8503 - val_loss: 0.3806 - val_accuracy: 0.8517\n",
            "Epoch 134/500\n",
            "350/350 [==============================] - 1s 3ms/step - loss: 0.3854 - accuracy: 0.8478 - val_loss: 0.3823 - val_accuracy: 0.8658\n",
            "Epoch 135/500\n",
            "350/350 [==============================] - 1s 3ms/step - loss: 0.3877 - accuracy: 0.8503 - val_loss: 0.3804 - val_accuracy: 0.8467\n",
            "Epoch 136/500\n",
            "350/350 [==============================] - 1s 3ms/step - loss: 0.3855 - accuracy: 0.8489 - val_loss: 0.3670 - val_accuracy: 0.8600\n",
            "Epoch 137/500\n",
            "350/350 [==============================] - 1s 3ms/step - loss: 0.3841 - accuracy: 0.8507 - val_loss: 0.3701 - val_accuracy: 0.8650\n",
            "Epoch 138/500\n",
            "350/350 [==============================] - 1s 3ms/step - loss: 0.3839 - accuracy: 0.8474 - val_loss: 0.3759 - val_accuracy: 0.8492\n",
            "Epoch 139/500\n",
            "350/350 [==============================] - 1s 3ms/step - loss: 0.3853 - accuracy: 0.8496 - val_loss: 0.3788 - val_accuracy: 0.8692\n",
            "Epoch 140/500\n",
            "350/350 [==============================] - 1s 3ms/step - loss: 0.3868 - accuracy: 0.8510 - val_loss: 0.3711 - val_accuracy: 0.8583\n",
            "Epoch 141/500\n",
            "350/350 [==============================] - 1s 3ms/step - loss: 0.3832 - accuracy: 0.8510 - val_loss: 0.3727 - val_accuracy: 0.8575\n",
            "Epoch 142/500\n",
            "350/350 [==============================] - 1s 3ms/step - loss: 0.3842 - accuracy: 0.8503 - val_loss: 0.3731 - val_accuracy: 0.8542\n",
            "Epoch 143/500\n",
            "350/350 [==============================] - 1s 3ms/step - loss: 0.3876 - accuracy: 0.8492 - val_loss: 0.3662 - val_accuracy: 0.8642\n",
            "Epoch 144/500\n",
            "350/350 [==============================] - 1s 3ms/step - loss: 0.3861 - accuracy: 0.8478 - val_loss: 0.3989 - val_accuracy: 0.8292\n",
            "Epoch 145/500\n",
            "350/350 [==============================] - 1s 3ms/step - loss: 0.3832 - accuracy: 0.8532 - val_loss: 0.3751 - val_accuracy: 0.8525\n",
            "Epoch 146/500\n",
            "350/350 [==============================] - 1s 3ms/step - loss: 0.3807 - accuracy: 0.8510 - val_loss: 0.3827 - val_accuracy: 0.8542\n",
            "Epoch 147/500\n",
            "350/350 [==============================] - 1s 3ms/step - loss: 0.3830 - accuracy: 0.8542 - val_loss: 0.3673 - val_accuracy: 0.8583\n",
            "Epoch 148/500\n",
            "350/350 [==============================] - 1s 3ms/step - loss: 0.3815 - accuracy: 0.8521 - val_loss: 0.3888 - val_accuracy: 0.8550\n",
            "Epoch 149/500\n",
            "350/350 [==============================] - 1s 3ms/step - loss: 0.3822 - accuracy: 0.8499 - val_loss: 0.3820 - val_accuracy: 0.8550\n",
            "Epoch 150/500\n",
            "350/350 [==============================] - 1s 3ms/step - loss: 0.3839 - accuracy: 0.8478 - val_loss: 0.3690 - val_accuracy: 0.8675\n",
            "Epoch 151/500\n",
            "350/350 [==============================] - 1s 3ms/step - loss: 0.3860 - accuracy: 0.8428 - val_loss: 0.3709 - val_accuracy: 0.8558\n",
            "Epoch 152/500\n",
            "350/350 [==============================] - 1s 3ms/step - loss: 0.3824 - accuracy: 0.8514 - val_loss: 0.3638 - val_accuracy: 0.8642\n",
            "Epoch 153/500\n",
            "350/350 [==============================] - 1s 3ms/step - loss: 0.3834 - accuracy: 0.8489 - val_loss: 0.3826 - val_accuracy: 0.8567\n",
            "Epoch 154/500\n",
            "350/350 [==============================] - 1s 3ms/step - loss: 0.3847 - accuracy: 0.8474 - val_loss: 0.3695 - val_accuracy: 0.8592\n",
            "Epoch 155/500\n",
            "350/350 [==============================] - 1s 3ms/step - loss: 0.3817 - accuracy: 0.8514 - val_loss: 0.3728 - val_accuracy: 0.8608\n",
            "Epoch 156/500\n",
            "350/350 [==============================] - 1s 3ms/step - loss: 0.3820 - accuracy: 0.8499 - val_loss: 0.3928 - val_accuracy: 0.8533\n",
            "Epoch 157/500\n",
            "350/350 [==============================] - 1s 3ms/step - loss: 0.3851 - accuracy: 0.8507 - val_loss: 0.3817 - val_accuracy: 0.8425\n",
            "Epoch 158/500\n",
            "350/350 [==============================] - 1s 3ms/step - loss: 0.3829 - accuracy: 0.8496 - val_loss: 0.3698 - val_accuracy: 0.8592\n",
            "Epoch 159/500\n",
            "350/350 [==============================] - 1s 3ms/step - loss: 0.3823 - accuracy: 0.8546 - val_loss: 0.3637 - val_accuracy: 0.8675\n",
            "Epoch 160/500\n",
            "350/350 [==============================] - 1s 3ms/step - loss: 0.3803 - accuracy: 0.8571 - val_loss: 0.3794 - val_accuracy: 0.8425\n",
            "Epoch 161/500\n",
            "350/350 [==============================] - 1s 3ms/step - loss: 0.3821 - accuracy: 0.8510 - val_loss: 0.4006 - val_accuracy: 0.8608\n",
            "Epoch 162/500\n",
            "350/350 [==============================] - 1s 3ms/step - loss: 0.3847 - accuracy: 0.8449 - val_loss: 0.3839 - val_accuracy: 0.8492\n",
            "Epoch 163/500\n",
            "350/350 [==============================] - 1s 3ms/step - loss: 0.3843 - accuracy: 0.8489 - val_loss: 0.3929 - val_accuracy: 0.8392\n",
            "Epoch 164/500\n",
            "350/350 [==============================] - 1s 3ms/step - loss: 0.3847 - accuracy: 0.8521 - val_loss: 0.3687 - val_accuracy: 0.8608\n",
            "Epoch 165/500\n",
            "350/350 [==============================] - 1s 3ms/step - loss: 0.3831 - accuracy: 0.8510 - val_loss: 0.3824 - val_accuracy: 0.8408\n",
            "Epoch 166/500\n",
            "350/350 [==============================] - 1s 3ms/step - loss: 0.3825 - accuracy: 0.8507 - val_loss: 0.3775 - val_accuracy: 0.8525\n",
            "Epoch 167/500\n",
            "350/350 [==============================] - 1s 3ms/step - loss: 0.3795 - accuracy: 0.8532 - val_loss: 0.3808 - val_accuracy: 0.8450\n",
            "Epoch 168/500\n",
            "350/350 [==============================] - 1s 3ms/step - loss: 0.3815 - accuracy: 0.8528 - val_loss: 0.3679 - val_accuracy: 0.8600\n",
            "Epoch 169/500\n",
            "350/350 [==============================] - 1s 3ms/step - loss: 0.3839 - accuracy: 0.8499 - val_loss: 0.3754 - val_accuracy: 0.8542\n",
            "Epoch 170/500\n",
            "350/350 [==============================] - 1s 3ms/step - loss: 0.3799 - accuracy: 0.8535 - val_loss: 0.3655 - val_accuracy: 0.8617\n",
            "Epoch 171/500\n",
            "350/350 [==============================] - 1s 3ms/step - loss: 0.3809 - accuracy: 0.8489 - val_loss: 0.3676 - val_accuracy: 0.8592\n",
            "Epoch 172/500\n",
            "350/350 [==============================] - 1s 3ms/step - loss: 0.3820 - accuracy: 0.8535 - val_loss: 0.3722 - val_accuracy: 0.8575\n",
            "Epoch 173/500\n",
            "350/350 [==============================] - 1s 3ms/step - loss: 0.3806 - accuracy: 0.8535 - val_loss: 0.3679 - val_accuracy: 0.8608\n",
            "Epoch 174/500\n",
            "350/350 [==============================] - 1s 3ms/step - loss: 0.3820 - accuracy: 0.8503 - val_loss: 0.3717 - val_accuracy: 0.8550\n",
            "Epoch 175/500\n",
            "350/350 [==============================] - 1s 3ms/step - loss: 0.3817 - accuracy: 0.8482 - val_loss: 0.3707 - val_accuracy: 0.8608\n",
            "Epoch 176/500\n",
            "350/350 [==============================] - 1s 3ms/step - loss: 0.3827 - accuracy: 0.8510 - val_loss: 0.3755 - val_accuracy: 0.8542\n",
            "Epoch 177/500\n",
            "350/350 [==============================] - 1s 3ms/step - loss: 0.3790 - accuracy: 0.8514 - val_loss: 0.3990 - val_accuracy: 0.8342\n",
            "Epoch 178/500\n",
            "350/350 [==============================] - 1s 3ms/step - loss: 0.3815 - accuracy: 0.8532 - val_loss: 0.3697 - val_accuracy: 0.8550\n",
            "Epoch 179/500\n",
            "350/350 [==============================] - 1s 3ms/step - loss: 0.3831 - accuracy: 0.8471 - val_loss: 0.3849 - val_accuracy: 0.8467\n",
            "Epoch 180/500\n",
            "350/350 [==============================] - 1s 3ms/step - loss: 0.3804 - accuracy: 0.8528 - val_loss: 0.3716 - val_accuracy: 0.8650\n",
            "Epoch 181/500\n",
            "350/350 [==============================] - 1s 3ms/step - loss: 0.3832 - accuracy: 0.8528 - val_loss: 0.3657 - val_accuracy: 0.8650\n",
            "Epoch 182/500\n",
            "350/350 [==============================] - 1s 3ms/step - loss: 0.3831 - accuracy: 0.8503 - val_loss: 0.3665 - val_accuracy: 0.8608\n",
            "Epoch 183/500\n",
            "350/350 [==============================] - 1s 3ms/step - loss: 0.3797 - accuracy: 0.8553 - val_loss: 0.3705 - val_accuracy: 0.8642\n",
            "Epoch 184/500\n",
            "350/350 [==============================] - 1s 3ms/step - loss: 0.3816 - accuracy: 0.8524 - val_loss: 0.3797 - val_accuracy: 0.8500\n",
            "Epoch 185/500\n",
            "350/350 [==============================] - 1s 3ms/step - loss: 0.3790 - accuracy: 0.8532 - val_loss: 0.3852 - val_accuracy: 0.8625\n",
            "Epoch 186/500\n",
            "350/350 [==============================] - 1s 3ms/step - loss: 0.3812 - accuracy: 0.8496 - val_loss: 0.3703 - val_accuracy: 0.8575\n",
            "Epoch 187/500\n",
            "350/350 [==============================] - 1s 3ms/step - loss: 0.3792 - accuracy: 0.8478 - val_loss: 0.3727 - val_accuracy: 0.8667\n",
            "Epoch 188/500\n",
            "350/350 [==============================] - 1s 3ms/step - loss: 0.3828 - accuracy: 0.8482 - val_loss: 0.3650 - val_accuracy: 0.8592\n",
            "Epoch 189/500\n",
            "350/350 [==============================] - 1s 3ms/step - loss: 0.3810 - accuracy: 0.8510 - val_loss: 0.3726 - val_accuracy: 0.8533\n",
            "Epoch 190/500\n",
            "350/350 [==============================] - 1s 3ms/step - loss: 0.3776 - accuracy: 0.8542 - val_loss: 0.3719 - val_accuracy: 0.8625\n",
            "Epoch 191/500\n",
            "350/350 [==============================] - 1s 3ms/step - loss: 0.3789 - accuracy: 0.8510 - val_loss: 0.3769 - val_accuracy: 0.8550\n",
            "Epoch 192/500\n",
            "350/350 [==============================] - 1s 3ms/step - loss: 0.3777 - accuracy: 0.8549 - val_loss: 0.3665 - val_accuracy: 0.8642\n",
            "Epoch 193/500\n",
            "350/350 [==============================] - 1s 3ms/step - loss: 0.3788 - accuracy: 0.8524 - val_loss: 0.3718 - val_accuracy: 0.8567\n",
            "Epoch 194/500\n",
            "350/350 [==============================] - 1s 3ms/step - loss: 0.3799 - accuracy: 0.8542 - val_loss: 0.3736 - val_accuracy: 0.8558\n",
            "Epoch 195/500\n",
            "350/350 [==============================] - 1s 3ms/step - loss: 0.3803 - accuracy: 0.8542 - val_loss: 0.3650 - val_accuracy: 0.8617\n",
            "Epoch 196/500\n",
            "350/350 [==============================] - 1s 3ms/step - loss: 0.3801 - accuracy: 0.8517 - val_loss: 0.3855 - val_accuracy: 0.8475\n",
            "Epoch 197/500\n",
            "350/350 [==============================] - 1s 3ms/step - loss: 0.3792 - accuracy: 0.8539 - val_loss: 0.3714 - val_accuracy: 0.8542\n",
            "Epoch 198/500\n",
            "350/350 [==============================] - 1s 3ms/step - loss: 0.3790 - accuracy: 0.8546 - val_loss: 0.3736 - val_accuracy: 0.8558\n",
            "Epoch 199/500\n",
            "350/350 [==============================] - 1s 3ms/step - loss: 0.3824 - accuracy: 0.8517 - val_loss: 0.3832 - val_accuracy: 0.8417\n",
            "Epoch 200/500\n",
            "350/350 [==============================] - 1s 3ms/step - loss: 0.3812 - accuracy: 0.8542 - val_loss: 0.3687 - val_accuracy: 0.8642\n",
            "Epoch 201/500\n",
            "350/350 [==============================] - 1s 3ms/step - loss: 0.3777 - accuracy: 0.8546 - val_loss: 0.3757 - val_accuracy: 0.8592\n",
            "Epoch 202/500\n",
            "350/350 [==============================] - 1s 3ms/step - loss: 0.3800 - accuracy: 0.8549 - val_loss: 0.3629 - val_accuracy: 0.8592\n",
            "Epoch 203/500\n",
            "350/350 [==============================] - 1s 3ms/step - loss: 0.3782 - accuracy: 0.8546 - val_loss: 0.3660 - val_accuracy: 0.8608\n",
            "Epoch 204/500\n",
            "350/350 [==============================] - 1s 3ms/step - loss: 0.3753 - accuracy: 0.8564 - val_loss: 0.4157 - val_accuracy: 0.8483\n",
            "Epoch 205/500\n",
            "350/350 [==============================] - 1s 3ms/step - loss: 0.3835 - accuracy: 0.8496 - val_loss: 0.3683 - val_accuracy: 0.8642\n",
            "Epoch 206/500\n",
            "350/350 [==============================] - 1s 3ms/step - loss: 0.3768 - accuracy: 0.8560 - val_loss: 0.3761 - val_accuracy: 0.8533\n",
            "Epoch 207/500\n",
            "350/350 [==============================] - 1s 3ms/step - loss: 0.3783 - accuracy: 0.8524 - val_loss: 0.3788 - val_accuracy: 0.8492\n",
            "Epoch 208/500\n",
            "350/350 [==============================] - 1s 3ms/step - loss: 0.3811 - accuracy: 0.8514 - val_loss: 0.3654 - val_accuracy: 0.8625\n",
            "Epoch 209/500\n",
            "350/350 [==============================] - 1s 3ms/step - loss: 0.3818 - accuracy: 0.8485 - val_loss: 0.3783 - val_accuracy: 0.8642\n",
            "Epoch 210/500\n",
            "350/350 [==============================] - 1s 3ms/step - loss: 0.3811 - accuracy: 0.8489 - val_loss: 0.3727 - val_accuracy: 0.8533\n",
            "Epoch 211/500\n",
            "350/350 [==============================] - 1s 3ms/step - loss: 0.3791 - accuracy: 0.8521 - val_loss: 0.3653 - val_accuracy: 0.8658\n",
            "Epoch 212/500\n",
            "350/350 [==============================] - 1s 3ms/step - loss: 0.3778 - accuracy: 0.8492 - val_loss: 0.3635 - val_accuracy: 0.8667\n",
            "Epoch 213/500\n",
            "350/350 [==============================] - 1s 3ms/step - loss: 0.3806 - accuracy: 0.8524 - val_loss: 0.3643 - val_accuracy: 0.8625\n",
            "Epoch 214/500\n",
            "350/350 [==============================] - 1s 3ms/step - loss: 0.3787 - accuracy: 0.8528 - val_loss: 0.3687 - val_accuracy: 0.8600\n",
            "Epoch 215/500\n",
            "350/350 [==============================] - 1s 3ms/step - loss: 0.3812 - accuracy: 0.8489 - val_loss: 0.3679 - val_accuracy: 0.8600\n",
            "Epoch 216/500\n",
            "350/350 [==============================] - 1s 3ms/step - loss: 0.3806 - accuracy: 0.8492 - val_loss: 0.3709 - val_accuracy: 0.8583\n",
            "Epoch 217/500\n",
            "350/350 [==============================] - 1s 3ms/step - loss: 0.3762 - accuracy: 0.8535 - val_loss: 0.3754 - val_accuracy: 0.8542\n",
            "Epoch 218/500\n",
            "350/350 [==============================] - 1s 3ms/step - loss: 0.3764 - accuracy: 0.8539 - val_loss: 0.3634 - val_accuracy: 0.8650\n",
            "Epoch 219/500\n",
            "350/350 [==============================] - 1s 3ms/step - loss: 0.3751 - accuracy: 0.8564 - val_loss: 0.3714 - val_accuracy: 0.8533\n",
            "Epoch 220/500\n",
            "350/350 [==============================] - 1s 3ms/step - loss: 0.3765 - accuracy: 0.8542 - val_loss: 0.3628 - val_accuracy: 0.8600\n",
            "Epoch 221/500\n",
            "350/350 [==============================] - 1s 3ms/step - loss: 0.3800 - accuracy: 0.8492 - val_loss: 0.3708 - val_accuracy: 0.8542\n",
            "Epoch 222/500\n",
            "350/350 [==============================] - 1s 3ms/step - loss: 0.3787 - accuracy: 0.8546 - val_loss: 0.3648 - val_accuracy: 0.8608\n",
            "Epoch 223/500\n",
            "350/350 [==============================] - 1s 3ms/step - loss: 0.3783 - accuracy: 0.8510 - val_loss: 0.3801 - val_accuracy: 0.8558\n",
            "Epoch 224/500\n",
            "350/350 [==============================] - 1s 3ms/step - loss: 0.3765 - accuracy: 0.8574 - val_loss: 0.3830 - val_accuracy: 0.8508\n",
            "Epoch 225/500\n",
            "350/350 [==============================] - 1s 3ms/step - loss: 0.3781 - accuracy: 0.8521 - val_loss: 0.3690 - val_accuracy: 0.8650\n",
            "Epoch 226/500\n",
            "350/350 [==============================] - 1s 3ms/step - loss: 0.3798 - accuracy: 0.8546 - val_loss: 0.3646 - val_accuracy: 0.8600\n",
            "Epoch 227/500\n",
            "350/350 [==============================] - 1s 3ms/step - loss: 0.3792 - accuracy: 0.8514 - val_loss: 0.3870 - val_accuracy: 0.8450\n",
            "Epoch 228/500\n",
            "350/350 [==============================] - 1s 3ms/step - loss: 0.3783 - accuracy: 0.8542 - val_loss: 0.3819 - val_accuracy: 0.8450\n",
            "Epoch 229/500\n",
            "350/350 [==============================] - 1s 3ms/step - loss: 0.3790 - accuracy: 0.8503 - val_loss: 0.3631 - val_accuracy: 0.8600\n",
            "Epoch 230/500\n",
            "350/350 [==============================] - 1s 3ms/step - loss: 0.3753 - accuracy: 0.8507 - val_loss: 0.3739 - val_accuracy: 0.8683\n",
            "Epoch 231/500\n",
            "350/350 [==============================] - 1s 3ms/step - loss: 0.3788 - accuracy: 0.8517 - val_loss: 0.3781 - val_accuracy: 0.8525\n",
            "Epoch 232/500\n",
            "350/350 [==============================] - 1s 3ms/step - loss: 0.3786 - accuracy: 0.8542 - val_loss: 0.3827 - val_accuracy: 0.8483\n",
            "Epoch 233/500\n",
            "350/350 [==============================] - 1s 3ms/step - loss: 0.3783 - accuracy: 0.8528 - val_loss: 0.3703 - val_accuracy: 0.8558\n",
            "Epoch 234/500\n",
            "350/350 [==============================] - 1s 3ms/step - loss: 0.3776 - accuracy: 0.8546 - val_loss: 0.3709 - val_accuracy: 0.8667\n",
            "Epoch 235/500\n",
            "350/350 [==============================] - 1s 3ms/step - loss: 0.3791 - accuracy: 0.8474 - val_loss: 0.3613 - val_accuracy: 0.8592\n",
            "Epoch 236/500\n",
            "350/350 [==============================] - 1s 3ms/step - loss: 0.3748 - accuracy: 0.8507 - val_loss: 0.3664 - val_accuracy: 0.8642\n",
            "Epoch 237/500\n",
            "350/350 [==============================] - 1s 3ms/step - loss: 0.3763 - accuracy: 0.8514 - val_loss: 0.3688 - val_accuracy: 0.8608\n",
            "Epoch 238/500\n",
            "350/350 [==============================] - 1s 3ms/step - loss: 0.3772 - accuracy: 0.8535 - val_loss: 0.3693 - val_accuracy: 0.8583\n",
            "Epoch 239/500\n",
            "350/350 [==============================] - 1s 3ms/step - loss: 0.3792 - accuracy: 0.8499 - val_loss: 0.3721 - val_accuracy: 0.8542\n",
            "Epoch 240/500\n",
            "350/350 [==============================] - 1s 3ms/step - loss: 0.3778 - accuracy: 0.8532 - val_loss: 0.4012 - val_accuracy: 0.8475\n",
            "Epoch 241/500\n",
            "350/350 [==============================] - 1s 3ms/step - loss: 0.3779 - accuracy: 0.8546 - val_loss: 0.3673 - val_accuracy: 0.8583\n",
            "Epoch 242/500\n",
            "350/350 [==============================] - 1s 3ms/step - loss: 0.3794 - accuracy: 0.8539 - val_loss: 0.3617 - val_accuracy: 0.8608\n",
            "Epoch 243/500\n",
            "350/350 [==============================] - 1s 3ms/step - loss: 0.3753 - accuracy: 0.8524 - val_loss: 0.3622 - val_accuracy: 0.8575\n",
            "Epoch 244/500\n",
            "350/350 [==============================] - 1s 3ms/step - loss: 0.3783 - accuracy: 0.8528 - val_loss: 0.3702 - val_accuracy: 0.8583\n",
            "Epoch 245/500\n",
            "350/350 [==============================] - 1s 3ms/step - loss: 0.3760 - accuracy: 0.8532 - val_loss: 0.3818 - val_accuracy: 0.8467\n",
            "Epoch 246/500\n",
            "350/350 [==============================] - 1s 3ms/step - loss: 0.3824 - accuracy: 0.8482 - val_loss: 0.3780 - val_accuracy: 0.8592\n",
            "Epoch 247/500\n",
            "350/350 [==============================] - 1s 3ms/step - loss: 0.3761 - accuracy: 0.8503 - val_loss: 0.3710 - val_accuracy: 0.8617\n",
            "Epoch 248/500\n",
            "350/350 [==============================] - 1s 3ms/step - loss: 0.3815 - accuracy: 0.8542 - val_loss: 0.3715 - val_accuracy: 0.8558\n",
            "Epoch 249/500\n",
            "350/350 [==============================] - 1s 3ms/step - loss: 0.3785 - accuracy: 0.8549 - val_loss: 0.3663 - val_accuracy: 0.8592\n",
            "Epoch 250/500\n",
            "350/350 [==============================] - 1s 3ms/step - loss: 0.3780 - accuracy: 0.8521 - val_loss: 0.3629 - val_accuracy: 0.8642\n",
            "Epoch 251/500\n",
            "350/350 [==============================] - 1s 3ms/step - loss: 0.3786 - accuracy: 0.8492 - val_loss: 0.3693 - val_accuracy: 0.8625\n",
            "Epoch 252/500\n",
            "350/350 [==============================] - 1s 3ms/step - loss: 0.3792 - accuracy: 0.8517 - val_loss: 0.3670 - val_accuracy: 0.8625\n",
            "Epoch 253/500\n",
            "350/350 [==============================] - 1s 3ms/step - loss: 0.3746 - accuracy: 0.8528 - val_loss: 0.4035 - val_accuracy: 0.8367\n",
            "Epoch 254/500\n",
            "350/350 [==============================] - 1s 3ms/step - loss: 0.3776 - accuracy: 0.8542 - val_loss: 0.3746 - val_accuracy: 0.8658\n",
            "Epoch 255/500\n",
            "350/350 [==============================] - 1s 3ms/step - loss: 0.3803 - accuracy: 0.8489 - val_loss: 0.3734 - val_accuracy: 0.8550\n",
            "Epoch 256/500\n",
            "350/350 [==============================] - 1s 3ms/step - loss: 0.3797 - accuracy: 0.8524 - val_loss: 0.3703 - val_accuracy: 0.8600\n",
            "Epoch 257/500\n",
            "350/350 [==============================] - 1s 3ms/step - loss: 0.3743 - accuracy: 0.8574 - val_loss: 0.3647 - val_accuracy: 0.8667\n",
            "Epoch 258/500\n",
            "350/350 [==============================] - 1s 3ms/step - loss: 0.3759 - accuracy: 0.8539 - val_loss: 0.3658 - val_accuracy: 0.8625\n",
            "Epoch 259/500\n",
            "350/350 [==============================] - 1s 3ms/step - loss: 0.3757 - accuracy: 0.8553 - val_loss: 0.3841 - val_accuracy: 0.8550\n",
            "Epoch 260/500\n",
            "350/350 [==============================] - 1s 3ms/step - loss: 0.3777 - accuracy: 0.8524 - val_loss: 0.3690 - val_accuracy: 0.8600\n",
            "Epoch 261/500\n",
            "350/350 [==============================] - 1s 3ms/step - loss: 0.3754 - accuracy: 0.8528 - val_loss: 0.3632 - val_accuracy: 0.8592\n",
            "Epoch 262/500\n",
            "350/350 [==============================] - 1s 3ms/step - loss: 0.3775 - accuracy: 0.8560 - val_loss: 0.3717 - val_accuracy: 0.8608\n",
            "Epoch 263/500\n",
            "350/350 [==============================] - 1s 3ms/step - loss: 0.3784 - accuracy: 0.8542 - val_loss: 0.3749 - val_accuracy: 0.8542\n",
            "Epoch 264/500\n",
            "350/350 [==============================] - 1s 3ms/step - loss: 0.3740 - accuracy: 0.8549 - val_loss: 0.3775 - val_accuracy: 0.8567\n",
            "Epoch 265/500\n",
            "350/350 [==============================] - 1s 3ms/step - loss: 0.3774 - accuracy: 0.8514 - val_loss: 0.3785 - val_accuracy: 0.8542\n",
            "Epoch 266/500\n",
            "350/350 [==============================] - 1s 3ms/step - loss: 0.3767 - accuracy: 0.8535 - val_loss: 0.3676 - val_accuracy: 0.8625\n",
            "Epoch 267/500\n",
            "350/350 [==============================] - 1s 3ms/step - loss: 0.3787 - accuracy: 0.8517 - val_loss: 0.3656 - val_accuracy: 0.8625\n",
            "Epoch 268/500\n",
            "350/350 [==============================] - 1s 3ms/step - loss: 0.3743 - accuracy: 0.8514 - val_loss: 0.3784 - val_accuracy: 0.8508\n",
            "Epoch 269/500\n",
            "350/350 [==============================] - 1s 3ms/step - loss: 0.3752 - accuracy: 0.8546 - val_loss: 0.3605 - val_accuracy: 0.8658\n",
            "Epoch 270/500\n",
            "350/350 [==============================] - 1s 3ms/step - loss: 0.3785 - accuracy: 0.8514 - val_loss: 0.3641 - val_accuracy: 0.8617\n",
            "Epoch 271/500\n",
            "350/350 [==============================] - 1s 3ms/step - loss: 0.3750 - accuracy: 0.8521 - val_loss: 0.3652 - val_accuracy: 0.8617\n",
            "Epoch 272/500\n",
            "350/350 [==============================] - 1s 3ms/step - loss: 0.3747 - accuracy: 0.8535 - val_loss: 0.3769 - val_accuracy: 0.8517\n",
            "Epoch 273/500\n",
            "350/350 [==============================] - 1s 3ms/step - loss: 0.3778 - accuracy: 0.8489 - val_loss: 0.3657 - val_accuracy: 0.8633\n",
            "Epoch 274/500\n",
            "350/350 [==============================] - 1s 3ms/step - loss: 0.3778 - accuracy: 0.8542 - val_loss: 0.3712 - val_accuracy: 0.8558\n",
            "Epoch 275/500\n",
            "350/350 [==============================] - 1s 3ms/step - loss: 0.3773 - accuracy: 0.8503 - val_loss: 0.3639 - val_accuracy: 0.8650\n",
            "Epoch 276/500\n",
            "350/350 [==============================] - 1s 3ms/step - loss: 0.3741 - accuracy: 0.8557 - val_loss: 0.3669 - val_accuracy: 0.8608\n",
            "Epoch 277/500\n",
            "350/350 [==============================] - 1s 3ms/step - loss: 0.3760 - accuracy: 0.8514 - val_loss: 0.3629 - val_accuracy: 0.8617\n",
            "Epoch 278/500\n",
            "350/350 [==============================] - 1s 3ms/step - loss: 0.3741 - accuracy: 0.8532 - val_loss: 0.3636 - val_accuracy: 0.8633\n",
            "Epoch 279/500\n",
            "350/350 [==============================] - 1s 3ms/step - loss: 0.3760 - accuracy: 0.8539 - val_loss: 0.3814 - val_accuracy: 0.8500\n",
            "Epoch 280/500\n",
            "350/350 [==============================] - 1s 3ms/step - loss: 0.3745 - accuracy: 0.8535 - val_loss: 0.3700 - val_accuracy: 0.8558\n",
            "Epoch 281/500\n",
            "350/350 [==============================] - 1s 3ms/step - loss: 0.3731 - accuracy: 0.8542 - val_loss: 0.3672 - val_accuracy: 0.8583\n",
            "Epoch 282/500\n",
            "350/350 [==============================] - 1s 3ms/step - loss: 0.3748 - accuracy: 0.8535 - val_loss: 0.3702 - val_accuracy: 0.8567\n",
            "Epoch 283/500\n",
            "350/350 [==============================] - 1s 3ms/step - loss: 0.3750 - accuracy: 0.8524 - val_loss: 0.3770 - val_accuracy: 0.8658\n",
            "Epoch 284/500\n",
            "350/350 [==============================] - 1s 3ms/step - loss: 0.3768 - accuracy: 0.8510 - val_loss: 0.3667 - val_accuracy: 0.8625\n",
            "Epoch 285/500\n",
            "350/350 [==============================] - 1s 3ms/step - loss: 0.3771 - accuracy: 0.8507 - val_loss: 0.3699 - val_accuracy: 0.8583\n",
            "Epoch 286/500\n",
            "350/350 [==============================] - 1s 3ms/step - loss: 0.3744 - accuracy: 0.8560 - val_loss: 0.3680 - val_accuracy: 0.8617\n",
            "Epoch 287/500\n",
            "350/350 [==============================] - 1s 3ms/step - loss: 0.3759 - accuracy: 0.8496 - val_loss: 0.3631 - val_accuracy: 0.8667\n",
            "Epoch 288/500\n",
            "350/350 [==============================] - 1s 3ms/step - loss: 0.3734 - accuracy: 0.8535 - val_loss: 0.3648 - val_accuracy: 0.8567\n",
            "Epoch 289/500\n",
            "350/350 [==============================] - 1s 3ms/step - loss: 0.3734 - accuracy: 0.8549 - val_loss: 0.3681 - val_accuracy: 0.8592\n",
            "Epoch 290/500\n",
            "350/350 [==============================] - 1s 3ms/step - loss: 0.3760 - accuracy: 0.8557 - val_loss: 0.3801 - val_accuracy: 0.8525\n",
            "Epoch 291/500\n",
            "350/350 [==============================] - 1s 3ms/step - loss: 0.3735 - accuracy: 0.8528 - val_loss: 0.3717 - val_accuracy: 0.8583\n",
            "Epoch 292/500\n",
            "350/350 [==============================] - 1s 3ms/step - loss: 0.3771 - accuracy: 0.8496 - val_loss: 0.3639 - val_accuracy: 0.8667\n",
            "Epoch 293/500\n",
            "350/350 [==============================] - 1s 3ms/step - loss: 0.3778 - accuracy: 0.8517 - val_loss: 0.3623 - val_accuracy: 0.8667\n",
            "Epoch 294/500\n",
            "350/350 [==============================] - 1s 3ms/step - loss: 0.3731 - accuracy: 0.8510 - val_loss: 0.3666 - val_accuracy: 0.8575\n",
            "Epoch 295/500\n",
            "350/350 [==============================] - 1s 3ms/step - loss: 0.3737 - accuracy: 0.8496 - val_loss: 0.3697 - val_accuracy: 0.8600\n",
            "Epoch 296/500\n",
            "350/350 [==============================] - 1s 3ms/step - loss: 0.3756 - accuracy: 0.8560 - val_loss: 0.3993 - val_accuracy: 0.8358\n",
            "Epoch 297/500\n",
            "350/350 [==============================] - 1s 3ms/step - loss: 0.3753 - accuracy: 0.8524 - val_loss: 0.3758 - val_accuracy: 0.8508\n",
            "Epoch 298/500\n",
            "350/350 [==============================] - 1s 3ms/step - loss: 0.3751 - accuracy: 0.8507 - val_loss: 0.3657 - val_accuracy: 0.8692\n",
            "Epoch 299/500\n",
            "350/350 [==============================] - 1s 3ms/step - loss: 0.3778 - accuracy: 0.8521 - val_loss: 0.3740 - val_accuracy: 0.8600\n",
            "Epoch 300/500\n",
            "350/350 [==============================] - 1s 3ms/step - loss: 0.3744 - accuracy: 0.8521 - val_loss: 0.3819 - val_accuracy: 0.8492\n",
            "Epoch 301/500\n",
            "350/350 [==============================] - 1s 3ms/step - loss: 0.3748 - accuracy: 0.8549 - val_loss: 0.3636 - val_accuracy: 0.8608\n",
            "Epoch 302/500\n",
            "350/350 [==============================] - 1s 3ms/step - loss: 0.3782 - accuracy: 0.8535 - val_loss: 0.3616 - val_accuracy: 0.8633\n",
            "Epoch 303/500\n",
            "350/350 [==============================] - 1s 3ms/step - loss: 0.3737 - accuracy: 0.8510 - val_loss: 0.3762 - val_accuracy: 0.8567\n",
            "Epoch 304/500\n",
            "350/350 [==============================] - 1s 3ms/step - loss: 0.3752 - accuracy: 0.8521 - val_loss: 0.3612 - val_accuracy: 0.8667\n",
            "Epoch 305/500\n",
            "350/350 [==============================] - 1s 3ms/step - loss: 0.3711 - accuracy: 0.8539 - val_loss: 0.3687 - val_accuracy: 0.8533\n",
            "Epoch 306/500\n",
            "350/350 [==============================] - 1s 3ms/step - loss: 0.3760 - accuracy: 0.8549 - val_loss: 0.3660 - val_accuracy: 0.8642\n",
            "Epoch 307/500\n",
            "350/350 [==============================] - 1s 3ms/step - loss: 0.3758 - accuracy: 0.8524 - val_loss: 0.3675 - val_accuracy: 0.8575\n",
            "Epoch 308/500\n",
            "350/350 [==============================] - 1s 3ms/step - loss: 0.3743 - accuracy: 0.8535 - val_loss: 0.3648 - val_accuracy: 0.8633\n",
            "Epoch 309/500\n",
            "350/350 [==============================] - 1s 3ms/step - loss: 0.3770 - accuracy: 0.8532 - val_loss: 0.3745 - val_accuracy: 0.8525\n",
            "Epoch 310/500\n",
            "350/350 [==============================] - 1s 3ms/step - loss: 0.3751 - accuracy: 0.8542 - val_loss: 0.3699 - val_accuracy: 0.8567\n",
            "Epoch 311/500\n",
            "350/350 [==============================] - 1s 3ms/step - loss: 0.3769 - accuracy: 0.8553 - val_loss: 0.3870 - val_accuracy: 0.8392\n",
            "Epoch 312/500\n",
            "350/350 [==============================] - 1s 3ms/step - loss: 0.3737 - accuracy: 0.8546 - val_loss: 0.3701 - val_accuracy: 0.8650\n",
            "Epoch 313/500\n",
            "350/350 [==============================] - 1s 3ms/step - loss: 0.3757 - accuracy: 0.8532 - val_loss: 0.3622 - val_accuracy: 0.8617\n",
            "Epoch 314/500\n",
            "350/350 [==============================] - 1s 3ms/step - loss: 0.3756 - accuracy: 0.8528 - val_loss: 0.3672 - val_accuracy: 0.8583\n",
            "Epoch 315/500\n",
            "350/350 [==============================] - 1s 3ms/step - loss: 0.3729 - accuracy: 0.8535 - val_loss: 0.3611 - val_accuracy: 0.8650\n",
            "Epoch 316/500\n",
            "350/350 [==============================] - 1s 3ms/step - loss: 0.3754 - accuracy: 0.8553 - val_loss: 0.3747 - val_accuracy: 0.8567\n",
            "Epoch 317/500\n",
            "350/350 [==============================] - 1s 3ms/step - loss: 0.3758 - accuracy: 0.8521 - val_loss: 0.3859 - val_accuracy: 0.8642\n",
            "Epoch 318/500\n",
            "350/350 [==============================] - 1s 3ms/step - loss: 0.3789 - accuracy: 0.8499 - val_loss: 0.3700 - val_accuracy: 0.8550\n",
            "Epoch 319/500\n",
            "350/350 [==============================] - 1s 3ms/step - loss: 0.3763 - accuracy: 0.8514 - val_loss: 0.3931 - val_accuracy: 0.8342\n",
            "Epoch 320/500\n",
            "350/350 [==============================] - 1s 3ms/step - loss: 0.3753 - accuracy: 0.8564 - val_loss: 0.3681 - val_accuracy: 0.8550\n",
            "Epoch 321/500\n",
            "350/350 [==============================] - 1s 3ms/step - loss: 0.3748 - accuracy: 0.8542 - val_loss: 0.3649 - val_accuracy: 0.8583\n",
            "Epoch 322/500\n",
            "350/350 [==============================] - 1s 3ms/step - loss: 0.3749 - accuracy: 0.8549 - val_loss: 0.3853 - val_accuracy: 0.8483\n",
            "Epoch 323/500\n",
            "350/350 [==============================] - 1s 3ms/step - loss: 0.3731 - accuracy: 0.8553 - val_loss: 0.3808 - val_accuracy: 0.8483\n",
            "Epoch 324/500\n",
            "350/350 [==============================] - 1s 3ms/step - loss: 0.3775 - accuracy: 0.8507 - val_loss: 0.3648 - val_accuracy: 0.8625\n",
            "Epoch 325/500\n",
            "350/350 [==============================] - 1s 3ms/step - loss: 0.3745 - accuracy: 0.8524 - val_loss: 0.3752 - val_accuracy: 0.8508\n",
            "Epoch 326/500\n",
            "350/350 [==============================] - 1s 3ms/step - loss: 0.3712 - accuracy: 0.8539 - val_loss: 0.3987 - val_accuracy: 0.8575\n",
            "Epoch 327/500\n",
            "350/350 [==============================] - 1s 3ms/step - loss: 0.3765 - accuracy: 0.8503 - val_loss: 0.3694 - val_accuracy: 0.8633\n",
            "Epoch 328/500\n",
            "350/350 [==============================] - 1s 3ms/step - loss: 0.3768 - accuracy: 0.8528 - val_loss: 0.3740 - val_accuracy: 0.8617\n",
            "Epoch 329/500\n",
            "350/350 [==============================] - 1s 3ms/step - loss: 0.3762 - accuracy: 0.8524 - val_loss: 0.3639 - val_accuracy: 0.8658\n",
            "Epoch 330/500\n",
            "350/350 [==============================] - 1s 3ms/step - loss: 0.3735 - accuracy: 0.8560 - val_loss: 0.3675 - val_accuracy: 0.8642\n",
            "Epoch 331/500\n",
            "350/350 [==============================] - 1s 3ms/step - loss: 0.3725 - accuracy: 0.8532 - val_loss: 0.3782 - val_accuracy: 0.8508\n",
            "Epoch 332/500\n",
            "350/350 [==============================] - 1s 3ms/step - loss: 0.3788 - accuracy: 0.8496 - val_loss: 0.3812 - val_accuracy: 0.8492\n",
            "Epoch 333/500\n",
            "350/350 [==============================] - 1s 3ms/step - loss: 0.3747 - accuracy: 0.8532 - val_loss: 0.3763 - val_accuracy: 0.8592\n",
            "Epoch 334/500\n",
            "350/350 [==============================] - 1s 3ms/step - loss: 0.3726 - accuracy: 0.8546 - val_loss: 0.3712 - val_accuracy: 0.8542\n",
            "Epoch 335/500\n",
            "350/350 [==============================] - 1s 3ms/step - loss: 0.3736 - accuracy: 0.8564 - val_loss: 0.3720 - val_accuracy: 0.8633\n",
            "Epoch 336/500\n",
            "350/350 [==============================] - 1s 3ms/step - loss: 0.3763 - accuracy: 0.8507 - val_loss: 0.3668 - val_accuracy: 0.8600\n",
            "Epoch 337/500\n",
            "350/350 [==============================] - 1s 3ms/step - loss: 0.3763 - accuracy: 0.8539 - val_loss: 0.3631 - val_accuracy: 0.8617\n",
            "Epoch 338/500\n",
            "350/350 [==============================] - 1s 3ms/step - loss: 0.3719 - accuracy: 0.8542 - val_loss: 0.3820 - val_accuracy: 0.8500\n",
            "Epoch 339/500\n",
            "350/350 [==============================] - 1s 3ms/step - loss: 0.3750 - accuracy: 0.8517 - val_loss: 0.3646 - val_accuracy: 0.8633\n",
            "Epoch 340/500\n",
            "350/350 [==============================] - 1s 3ms/step - loss: 0.3734 - accuracy: 0.8546 - val_loss: 0.3731 - val_accuracy: 0.8517\n",
            "Epoch 341/500\n",
            "350/350 [==============================] - 1s 3ms/step - loss: 0.3760 - accuracy: 0.8528 - val_loss: 0.3629 - val_accuracy: 0.8592\n",
            "Epoch 342/500\n",
            "350/350 [==============================] - 1s 3ms/step - loss: 0.3735 - accuracy: 0.8532 - val_loss: 0.3618 - val_accuracy: 0.8650\n",
            "Epoch 343/500\n",
            "350/350 [==============================] - 1s 3ms/step - loss: 0.3724 - accuracy: 0.8567 - val_loss: 0.3749 - val_accuracy: 0.8475\n",
            "Epoch 344/500\n",
            "350/350 [==============================] - 1s 3ms/step - loss: 0.3731 - accuracy: 0.8535 - val_loss: 0.3691 - val_accuracy: 0.8583\n",
            "Epoch 345/500\n",
            "350/350 [==============================] - 1s 3ms/step - loss: 0.3726 - accuracy: 0.8546 - val_loss: 0.3900 - val_accuracy: 0.8475\n",
            "Epoch 346/500\n",
            "350/350 [==============================] - 1s 3ms/step - loss: 0.3723 - accuracy: 0.8524 - val_loss: 0.3698 - val_accuracy: 0.8533\n",
            "Epoch 347/500\n",
            "350/350 [==============================] - 1s 3ms/step - loss: 0.3769 - accuracy: 0.8496 - val_loss: 0.3758 - val_accuracy: 0.8525\n",
            "Epoch 348/500\n",
            "350/350 [==============================] - 1s 3ms/step - loss: 0.3748 - accuracy: 0.8528 - val_loss: 0.3623 - val_accuracy: 0.8683\n",
            "Epoch 349/500\n",
            "350/350 [==============================] - 1s 3ms/step - loss: 0.3735 - accuracy: 0.8514 - val_loss: 0.3636 - val_accuracy: 0.8617\n",
            "Epoch 350/500\n",
            "350/350 [==============================] - 1s 3ms/step - loss: 0.3757 - accuracy: 0.8514 - val_loss: 0.3717 - val_accuracy: 0.8633\n",
            "Epoch 351/500\n",
            "350/350 [==============================] - 1s 3ms/step - loss: 0.3761 - accuracy: 0.8535 - val_loss: 0.4023 - val_accuracy: 0.8483\n",
            "Epoch 352/500\n",
            "350/350 [==============================] - 1s 3ms/step - loss: 0.3745 - accuracy: 0.8535 - val_loss: 0.3887 - val_accuracy: 0.8475\n",
            "Epoch 353/500\n",
            "350/350 [==============================] - 1s 3ms/step - loss: 0.3762 - accuracy: 0.8524 - val_loss: 0.3698 - val_accuracy: 0.8592\n",
            "Epoch 354/500\n",
            "350/350 [==============================] - 1s 3ms/step - loss: 0.3741 - accuracy: 0.8546 - val_loss: 0.3680 - val_accuracy: 0.8608\n",
            "Epoch 355/500\n",
            "350/350 [==============================] - 1s 3ms/step - loss: 0.3780 - accuracy: 0.8542 - val_loss: 0.3744 - val_accuracy: 0.8542\n",
            "Epoch 356/500\n",
            "350/350 [==============================] - 1s 3ms/step - loss: 0.3731 - accuracy: 0.8542 - val_loss: 0.3639 - val_accuracy: 0.8642\n",
            "Epoch 357/500\n",
            "350/350 [==============================] - 1s 3ms/step - loss: 0.3727 - accuracy: 0.8560 - val_loss: 0.3653 - val_accuracy: 0.8650\n",
            "Epoch 358/500\n",
            "350/350 [==============================] - 1s 3ms/step - loss: 0.3723 - accuracy: 0.8560 - val_loss: 0.3692 - val_accuracy: 0.8625\n",
            "Epoch 359/500\n",
            "350/350 [==============================] - 1s 3ms/step - loss: 0.3742 - accuracy: 0.8560 - val_loss: 0.3734 - val_accuracy: 0.8492\n",
            "Epoch 360/500\n",
            "350/350 [==============================] - 1s 3ms/step - loss: 0.3732 - accuracy: 0.8542 - val_loss: 0.3683 - val_accuracy: 0.8658\n",
            "Epoch 361/500\n",
            "350/350 [==============================] - 1s 3ms/step - loss: 0.3726 - accuracy: 0.8542 - val_loss: 0.3673 - val_accuracy: 0.8633\n",
            "Epoch 362/500\n",
            "350/350 [==============================] - 1s 3ms/step - loss: 0.3724 - accuracy: 0.8585 - val_loss: 0.3711 - val_accuracy: 0.8642\n",
            "Epoch 363/500\n",
            "350/350 [==============================] - 1s 3ms/step - loss: 0.3707 - accuracy: 0.8542 - val_loss: 0.3724 - val_accuracy: 0.8517\n",
            "Epoch 364/500\n",
            "350/350 [==============================] - 1s 3ms/step - loss: 0.3781 - accuracy: 0.8503 - val_loss: 0.3617 - val_accuracy: 0.8583\n",
            "Epoch 365/500\n",
            "350/350 [==============================] - 1s 3ms/step - loss: 0.3720 - accuracy: 0.8546 - val_loss: 0.3760 - val_accuracy: 0.8483\n",
            "Epoch 366/500\n",
            "350/350 [==============================] - 1s 3ms/step - loss: 0.3724 - accuracy: 0.8532 - val_loss: 0.3774 - val_accuracy: 0.8567\n",
            "Epoch 367/500\n",
            "350/350 [==============================] - 1s 3ms/step - loss: 0.3753 - accuracy: 0.8539 - val_loss: 0.3645 - val_accuracy: 0.8642\n",
            "Epoch 368/500\n",
            "350/350 [==============================] - 1s 3ms/step - loss: 0.3719 - accuracy: 0.8549 - val_loss: 0.3641 - val_accuracy: 0.8625\n",
            "Epoch 369/500\n",
            "350/350 [==============================] - 1s 3ms/step - loss: 0.3724 - accuracy: 0.8564 - val_loss: 0.3626 - val_accuracy: 0.8617\n",
            "Epoch 370/500\n",
            "350/350 [==============================] - 1s 3ms/step - loss: 0.3735 - accuracy: 0.8539 - val_loss: 0.3625 - val_accuracy: 0.8683\n",
            "Epoch 371/500\n",
            "350/350 [==============================] - 1s 3ms/step - loss: 0.3730 - accuracy: 0.8564 - val_loss: 0.3758 - val_accuracy: 0.8608\n",
            "Epoch 372/500\n",
            "350/350 [==============================] - 1s 3ms/step - loss: 0.3747 - accuracy: 0.8542 - val_loss: 0.3655 - val_accuracy: 0.8617\n",
            "Epoch 373/500\n",
            "350/350 [==============================] - 1s 3ms/step - loss: 0.3730 - accuracy: 0.8574 - val_loss: 0.3768 - val_accuracy: 0.8500\n",
            "Epoch 374/500\n",
            "350/350 [==============================] - 1s 3ms/step - loss: 0.3755 - accuracy: 0.8553 - val_loss: 0.3639 - val_accuracy: 0.8608\n",
            "Epoch 375/500\n",
            "350/350 [==============================] - 1s 3ms/step - loss: 0.3721 - accuracy: 0.8532 - val_loss: 0.3619 - val_accuracy: 0.8617\n",
            "Epoch 376/500\n",
            "350/350 [==============================] - 1s 3ms/step - loss: 0.3724 - accuracy: 0.8574 - val_loss: 0.3610 - val_accuracy: 0.8658\n",
            "Epoch 377/500\n",
            "350/350 [==============================] - 1s 3ms/step - loss: 0.3704 - accuracy: 0.8567 - val_loss: 0.3818 - val_accuracy: 0.8500\n",
            "Epoch 378/500\n",
            "350/350 [==============================] - 1s 3ms/step - loss: 0.3706 - accuracy: 0.8549 - val_loss: 0.4040 - val_accuracy: 0.8275\n",
            "Epoch 379/500\n",
            "350/350 [==============================] - 1s 3ms/step - loss: 0.3747 - accuracy: 0.8542 - val_loss: 0.3628 - val_accuracy: 0.8650\n",
            "Epoch 380/500\n",
            "350/350 [==============================] - 1s 3ms/step - loss: 0.3739 - accuracy: 0.8535 - val_loss: 0.3617 - val_accuracy: 0.8650\n",
            "Epoch 381/500\n",
            "350/350 [==============================] - 1s 3ms/step - loss: 0.3734 - accuracy: 0.8528 - val_loss: 0.3685 - val_accuracy: 0.8567\n",
            "Epoch 382/500\n",
            "350/350 [==============================] - 1s 3ms/step - loss: 0.3751 - accuracy: 0.8539 - val_loss: 0.3667 - val_accuracy: 0.8667\n",
            "Epoch 383/500\n",
            "350/350 [==============================] - 1s 3ms/step - loss: 0.3717 - accuracy: 0.8510 - val_loss: 0.3640 - val_accuracy: 0.8625\n",
            "Epoch 384/500\n",
            "350/350 [==============================] - 1s 3ms/step - loss: 0.3714 - accuracy: 0.8553 - val_loss: 0.3724 - val_accuracy: 0.8558\n",
            "Epoch 385/500\n",
            "350/350 [==============================] - 1s 3ms/step - loss: 0.3730 - accuracy: 0.8560 - val_loss: 0.3702 - val_accuracy: 0.8567\n",
            "Epoch 386/500\n",
            "350/350 [==============================] - 1s 3ms/step - loss: 0.3691 - accuracy: 0.8546 - val_loss: 0.3839 - val_accuracy: 0.8550\n",
            "Epoch 387/500\n",
            "350/350 [==============================] - 1s 3ms/step - loss: 0.3721 - accuracy: 0.8557 - val_loss: 0.3670 - val_accuracy: 0.8625\n",
            "Epoch 388/500\n",
            "350/350 [==============================] - 1s 3ms/step - loss: 0.3699 - accuracy: 0.8553 - val_loss: 0.3851 - val_accuracy: 0.8550\n",
            "Epoch 389/500\n",
            "350/350 [==============================] - 1s 3ms/step - loss: 0.3723 - accuracy: 0.8546 - val_loss: 0.3951 - val_accuracy: 0.8408\n",
            "Epoch 390/500\n",
            "350/350 [==============================] - 1s 3ms/step - loss: 0.3745 - accuracy: 0.8564 - val_loss: 0.3679 - val_accuracy: 0.8617\n",
            "Epoch 391/500\n",
            "350/350 [==============================] - 1s 3ms/step - loss: 0.3722 - accuracy: 0.8539 - val_loss: 0.3643 - val_accuracy: 0.8625\n",
            "Epoch 392/500\n",
            "350/350 [==============================] - 1s 3ms/step - loss: 0.3732 - accuracy: 0.8557 - val_loss: 0.3626 - val_accuracy: 0.8617\n",
            "Epoch 393/500\n",
            "350/350 [==============================] - 1s 3ms/step - loss: 0.3718 - accuracy: 0.8510 - val_loss: 0.3898 - val_accuracy: 0.8475\n",
            "Epoch 394/500\n",
            "350/350 [==============================] - 1s 3ms/step - loss: 0.3706 - accuracy: 0.8532 - val_loss: 0.3727 - val_accuracy: 0.8617\n",
            "Epoch 395/500\n",
            "350/350 [==============================] - 1s 4ms/step - loss: 0.3718 - accuracy: 0.8524 - val_loss: 0.3695 - val_accuracy: 0.8642\n",
            "Epoch 396/500\n",
            "350/350 [==============================] - 1s 3ms/step - loss: 0.3679 - accuracy: 0.8578 - val_loss: 0.3642 - val_accuracy: 0.8642\n",
            "Epoch 397/500\n",
            "350/350 [==============================] - 1s 3ms/step - loss: 0.3713 - accuracy: 0.8535 - val_loss: 0.3756 - val_accuracy: 0.8492\n",
            "Epoch 398/500\n",
            "350/350 [==============================] - 1s 3ms/step - loss: 0.3727 - accuracy: 0.8524 - val_loss: 0.3838 - val_accuracy: 0.8458\n",
            "Epoch 399/500\n",
            "350/350 [==============================] - 1s 3ms/step - loss: 0.3735 - accuracy: 0.8521 - val_loss: 0.3669 - val_accuracy: 0.8633\n",
            "Epoch 400/500\n",
            "350/350 [==============================] - 1s 3ms/step - loss: 0.3735 - accuracy: 0.8539 - val_loss: 0.3740 - val_accuracy: 0.8533\n",
            "Epoch 401/500\n",
            "350/350 [==============================] - 1s 3ms/step - loss: 0.3732 - accuracy: 0.8510 - val_loss: 0.3763 - val_accuracy: 0.8517\n",
            "Epoch 402/500\n",
            "350/350 [==============================] - 1s 3ms/step - loss: 0.3738 - accuracy: 0.8528 - val_loss: 0.3631 - val_accuracy: 0.8625\n",
            "Epoch 403/500\n",
            "350/350 [==============================] - 1s 3ms/step - loss: 0.3694 - accuracy: 0.8557 - val_loss: 0.3780 - val_accuracy: 0.8492\n",
            "Epoch 404/500\n",
            "350/350 [==============================] - 1s 3ms/step - loss: 0.3734 - accuracy: 0.8528 - val_loss: 0.3654 - val_accuracy: 0.8617\n",
            "Epoch 405/500\n",
            "350/350 [==============================] - 1s 3ms/step - loss: 0.3710 - accuracy: 0.8535 - val_loss: 0.3641 - val_accuracy: 0.8633\n",
            "Epoch 406/500\n",
            "350/350 [==============================] - 1s 3ms/step - loss: 0.3682 - accuracy: 0.8571 - val_loss: 0.3793 - val_accuracy: 0.8550\n",
            "Epoch 407/500\n",
            "350/350 [==============================] - 1s 3ms/step - loss: 0.3722 - accuracy: 0.8542 - val_loss: 0.3700 - val_accuracy: 0.8633\n",
            "Epoch 408/500\n",
            "350/350 [==============================] - 1s 3ms/step - loss: 0.3722 - accuracy: 0.8546 - val_loss: 0.3707 - val_accuracy: 0.8575\n",
            "Epoch 409/500\n",
            "350/350 [==============================] - 1s 3ms/step - loss: 0.3700 - accuracy: 0.8535 - val_loss: 0.3723 - val_accuracy: 0.8642\n",
            "Epoch 410/500\n",
            "350/350 [==============================] - 1s 3ms/step - loss: 0.3735 - accuracy: 0.8542 - val_loss: 0.3722 - val_accuracy: 0.8625\n",
            "Epoch 411/500\n",
            "350/350 [==============================] - 1s 3ms/step - loss: 0.3709 - accuracy: 0.8567 - val_loss: 0.3703 - val_accuracy: 0.8625\n",
            "Epoch 412/500\n",
            "350/350 [==============================] - 1s 3ms/step - loss: 0.3754 - accuracy: 0.8524 - val_loss: 0.3715 - val_accuracy: 0.8600\n",
            "Epoch 413/500\n",
            "350/350 [==============================] - 1s 3ms/step - loss: 0.3727 - accuracy: 0.8546 - val_loss: 0.3631 - val_accuracy: 0.8608\n",
            "Epoch 414/500\n",
            "350/350 [==============================] - 1s 3ms/step - loss: 0.3700 - accuracy: 0.8521 - val_loss: 0.3720 - val_accuracy: 0.8550\n",
            "Epoch 415/500\n",
            "350/350 [==============================] - 1s 3ms/step - loss: 0.3715 - accuracy: 0.8539 - val_loss: 0.3705 - val_accuracy: 0.8633\n",
            "Epoch 416/500\n",
            "350/350 [==============================] - 1s 3ms/step - loss: 0.3722 - accuracy: 0.8524 - val_loss: 0.3691 - val_accuracy: 0.8558\n",
            "Epoch 417/500\n",
            "350/350 [==============================] - 1s 3ms/step - loss: 0.3710 - accuracy: 0.8535 - val_loss: 0.3643 - val_accuracy: 0.8633\n",
            "Epoch 418/500\n",
            "350/350 [==============================] - 1s 3ms/step - loss: 0.3704 - accuracy: 0.8557 - val_loss: 0.3717 - val_accuracy: 0.8625\n",
            "Epoch 419/500\n",
            "350/350 [==============================] - 1s 3ms/step - loss: 0.3722 - accuracy: 0.8564 - val_loss: 0.3690 - val_accuracy: 0.8592\n",
            "Epoch 420/500\n",
            "350/350 [==============================] - 1s 3ms/step - loss: 0.3737 - accuracy: 0.8521 - val_loss: 0.3613 - val_accuracy: 0.8642\n",
            "Epoch 421/500\n",
            "350/350 [==============================] - 1s 3ms/step - loss: 0.3685 - accuracy: 0.8589 - val_loss: 0.3666 - val_accuracy: 0.8617\n",
            "Epoch 422/500\n",
            "350/350 [==============================] - 1s 3ms/step - loss: 0.3707 - accuracy: 0.8553 - val_loss: 0.3765 - val_accuracy: 0.8525\n",
            "Epoch 423/500\n",
            "350/350 [==============================] - 1s 3ms/step - loss: 0.3713 - accuracy: 0.8546 - val_loss: 0.3664 - val_accuracy: 0.8608\n",
            "Epoch 424/500\n",
            "350/350 [==============================] - 1s 3ms/step - loss: 0.3719 - accuracy: 0.8532 - val_loss: 0.3694 - val_accuracy: 0.8608\n",
            "Epoch 425/500\n",
            "350/350 [==============================] - 1s 3ms/step - loss: 0.3720 - accuracy: 0.8560 - val_loss: 0.3793 - val_accuracy: 0.8500\n",
            "Epoch 426/500\n",
            "350/350 [==============================] - 1s 3ms/step - loss: 0.3717 - accuracy: 0.8571 - val_loss: 0.3732 - val_accuracy: 0.8525\n",
            "Epoch 427/500\n",
            "350/350 [==============================] - 1s 3ms/step - loss: 0.3690 - accuracy: 0.8571 - val_loss: 0.3626 - val_accuracy: 0.8608\n",
            "Epoch 428/500\n",
            "350/350 [==============================] - 1s 3ms/step - loss: 0.3726 - accuracy: 0.8535 - val_loss: 0.3850 - val_accuracy: 0.8425\n",
            "Epoch 429/500\n",
            "350/350 [==============================] - 1s 3ms/step - loss: 0.3714 - accuracy: 0.8557 - val_loss: 0.3670 - val_accuracy: 0.8592\n",
            "Epoch 430/500\n",
            "350/350 [==============================] - 1s 3ms/step - loss: 0.3707 - accuracy: 0.8542 - val_loss: 0.3654 - val_accuracy: 0.8658\n",
            "Epoch 431/500\n",
            "350/350 [==============================] - 1s 3ms/step - loss: 0.3700 - accuracy: 0.8557 - val_loss: 0.3825 - val_accuracy: 0.8525\n",
            "Epoch 432/500\n",
            "350/350 [==============================] - 1s 3ms/step - loss: 0.3716 - accuracy: 0.8539 - val_loss: 0.3651 - val_accuracy: 0.8633\n",
            "Epoch 433/500\n",
            "350/350 [==============================] - 1s 3ms/step - loss: 0.3709 - accuracy: 0.8557 - val_loss: 0.3624 - val_accuracy: 0.8642\n",
            "Epoch 434/500\n",
            "350/350 [==============================] - 1s 3ms/step - loss: 0.3731 - accuracy: 0.8539 - val_loss: 0.3733 - val_accuracy: 0.8542\n",
            "Epoch 435/500\n",
            "350/350 [==============================] - 1s 3ms/step - loss: 0.3706 - accuracy: 0.8549 - val_loss: 0.3766 - val_accuracy: 0.8608\n",
            "Epoch 436/500\n",
            "350/350 [==============================] - 1s 3ms/step - loss: 0.3725 - accuracy: 0.8560 - val_loss: 0.3744 - val_accuracy: 0.8533\n",
            "Epoch 437/500\n",
            "350/350 [==============================] - 1s 3ms/step - loss: 0.3699 - accuracy: 0.8546 - val_loss: 0.3676 - val_accuracy: 0.8600\n",
            "Epoch 438/500\n",
            "350/350 [==============================] - 1s 3ms/step - loss: 0.3687 - accuracy: 0.8553 - val_loss: 0.3641 - val_accuracy: 0.8650\n",
            "Epoch 439/500\n",
            "350/350 [==============================] - 1s 3ms/step - loss: 0.3694 - accuracy: 0.8549 - val_loss: 0.3736 - val_accuracy: 0.8517\n",
            "Epoch 440/500\n",
            "350/350 [==============================] - 1s 3ms/step - loss: 0.3707 - accuracy: 0.8542 - val_loss: 0.3698 - val_accuracy: 0.8592\n",
            "Epoch 441/500\n",
            "350/350 [==============================] - 1s 3ms/step - loss: 0.3679 - accuracy: 0.8617 - val_loss: 0.3639 - val_accuracy: 0.8592\n",
            "Epoch 442/500\n",
            "350/350 [==============================] - 1s 3ms/step - loss: 0.3727 - accuracy: 0.8535 - val_loss: 0.3706 - val_accuracy: 0.8608\n",
            "Epoch 443/500\n",
            "350/350 [==============================] - 1s 3ms/step - loss: 0.3717 - accuracy: 0.8553 - val_loss: 0.3606 - val_accuracy: 0.8617\n",
            "Epoch 444/500\n",
            "350/350 [==============================] - 1s 3ms/step - loss: 0.3698 - accuracy: 0.8542 - val_loss: 0.3666 - val_accuracy: 0.8592\n",
            "Epoch 445/500\n",
            "350/350 [==============================] - 1s 3ms/step - loss: 0.3713 - accuracy: 0.8574 - val_loss: 0.3740 - val_accuracy: 0.8575\n",
            "Epoch 446/500\n",
            "350/350 [==============================] - 1s 3ms/step - loss: 0.3704 - accuracy: 0.8532 - val_loss: 0.3611 - val_accuracy: 0.8667\n",
            "Epoch 447/500\n",
            "350/350 [==============================] - 1s 3ms/step - loss: 0.3731 - accuracy: 0.8574 - val_loss: 0.3779 - val_accuracy: 0.8475\n",
            "Epoch 448/500\n",
            "350/350 [==============================] - 1s 3ms/step - loss: 0.3751 - accuracy: 0.8546 - val_loss: 0.3707 - val_accuracy: 0.8625\n",
            "Epoch 449/500\n",
            "350/350 [==============================] - 1s 3ms/step - loss: 0.3728 - accuracy: 0.8549 - val_loss: 0.3660 - val_accuracy: 0.8625\n",
            "Epoch 450/500\n",
            "350/350 [==============================] - 1s 3ms/step - loss: 0.3710 - accuracy: 0.8582 - val_loss: 0.3736 - val_accuracy: 0.8567\n",
            "Epoch 451/500\n",
            "350/350 [==============================] - 1s 3ms/step - loss: 0.3720 - accuracy: 0.8557 - val_loss: 0.3700 - val_accuracy: 0.8600\n",
            "Epoch 452/500\n",
            "350/350 [==============================] - 1s 3ms/step - loss: 0.3702 - accuracy: 0.8549 - val_loss: 0.3633 - val_accuracy: 0.8608\n",
            "Epoch 453/500\n",
            "350/350 [==============================] - 1s 3ms/step - loss: 0.3703 - accuracy: 0.8539 - val_loss: 0.3695 - val_accuracy: 0.8633\n",
            "Epoch 454/500\n",
            "350/350 [==============================] - 1s 3ms/step - loss: 0.3693 - accuracy: 0.8571 - val_loss: 0.3665 - val_accuracy: 0.8633\n",
            "Epoch 455/500\n",
            "350/350 [==============================] - 1s 3ms/step - loss: 0.3712 - accuracy: 0.8553 - val_loss: 0.3710 - val_accuracy: 0.8525\n",
            "Epoch 456/500\n",
            "350/350 [==============================] - 1s 3ms/step - loss: 0.3715 - accuracy: 0.8521 - val_loss: 0.3735 - val_accuracy: 0.8583\n",
            "Epoch 457/500\n",
            "350/350 [==============================] - 1s 3ms/step - loss: 0.3717 - accuracy: 0.8528 - val_loss: 0.3621 - val_accuracy: 0.8583\n",
            "Epoch 458/500\n",
            "350/350 [==============================] - 1s 3ms/step - loss: 0.3728 - accuracy: 0.8521 - val_loss: 0.3649 - val_accuracy: 0.8592\n",
            "Epoch 459/500\n",
            "350/350 [==============================] - 1s 3ms/step - loss: 0.3686 - accuracy: 0.8560 - val_loss: 0.3781 - val_accuracy: 0.8508\n",
            "Epoch 460/500\n",
            "350/350 [==============================] - 1s 3ms/step - loss: 0.3723 - accuracy: 0.8557 - val_loss: 0.3820 - val_accuracy: 0.8550\n",
            "Epoch 461/500\n",
            "350/350 [==============================] - 1s 3ms/step - loss: 0.3752 - accuracy: 0.8521 - val_loss: 0.3638 - val_accuracy: 0.8608\n",
            "Epoch 462/500\n",
            "350/350 [==============================] - 1s 3ms/step - loss: 0.3724 - accuracy: 0.8553 - val_loss: 0.3756 - val_accuracy: 0.8583\n",
            "Epoch 463/500\n",
            "350/350 [==============================] - 1s 3ms/step - loss: 0.3699 - accuracy: 0.8532 - val_loss: 0.3636 - val_accuracy: 0.8658\n",
            "Epoch 464/500\n",
            "350/350 [==============================] - 1s 3ms/step - loss: 0.3719 - accuracy: 0.8535 - val_loss: 0.3618 - val_accuracy: 0.8658\n",
            "Epoch 465/500\n",
            "350/350 [==============================] - 1s 3ms/step - loss: 0.3698 - accuracy: 0.8542 - val_loss: 0.3649 - val_accuracy: 0.8625\n",
            "Epoch 466/500\n",
            "350/350 [==============================] - 1s 3ms/step - loss: 0.3717 - accuracy: 0.8553 - val_loss: 0.3626 - val_accuracy: 0.8617\n",
            "Epoch 467/500\n",
            "350/350 [==============================] - 1s 3ms/step - loss: 0.3689 - accuracy: 0.8564 - val_loss: 0.3851 - val_accuracy: 0.8425\n",
            "Epoch 468/500\n",
            "350/350 [==============================] - 1s 3ms/step - loss: 0.3709 - accuracy: 0.8560 - val_loss: 0.3700 - val_accuracy: 0.8525\n",
            "Epoch 469/500\n",
            "350/350 [==============================] - 1s 3ms/step - loss: 0.3693 - accuracy: 0.8546 - val_loss: 0.3629 - val_accuracy: 0.8658\n",
            "Epoch 470/500\n",
            "350/350 [==============================] - 1s 3ms/step - loss: 0.3695 - accuracy: 0.8557 - val_loss: 0.3618 - val_accuracy: 0.8667\n",
            "Epoch 471/500\n",
            "350/350 [==============================] - 1s 3ms/step - loss: 0.3699 - accuracy: 0.8549 - val_loss: 0.3683 - val_accuracy: 0.8617\n",
            "Epoch 472/500\n",
            "350/350 [==============================] - 1s 3ms/step - loss: 0.3724 - accuracy: 0.8524 - val_loss: 0.3699 - val_accuracy: 0.8550\n",
            "Epoch 473/500\n",
            "350/350 [==============================] - 1s 3ms/step - loss: 0.3709 - accuracy: 0.8553 - val_loss: 0.3645 - val_accuracy: 0.8583\n",
            "Epoch 474/500\n",
            "350/350 [==============================] - 1s 3ms/step - loss: 0.3726 - accuracy: 0.8542 - val_loss: 0.3661 - val_accuracy: 0.8592\n",
            "Epoch 475/500\n",
            "350/350 [==============================] - 1s 3ms/step - loss: 0.3691 - accuracy: 0.8539 - val_loss: 0.3856 - val_accuracy: 0.8517\n",
            "Epoch 476/500\n",
            "350/350 [==============================] - 1s 3ms/step - loss: 0.3720 - accuracy: 0.8535 - val_loss: 0.3748 - val_accuracy: 0.8575\n",
            "Epoch 477/500\n",
            "350/350 [==============================] - 1s 3ms/step - loss: 0.3715 - accuracy: 0.8542 - val_loss: 0.3705 - val_accuracy: 0.8575\n",
            "Epoch 478/500\n",
            "350/350 [==============================] - 1s 3ms/step - loss: 0.3726 - accuracy: 0.8546 - val_loss: 0.3710 - val_accuracy: 0.8533\n",
            "Epoch 479/500\n",
            "350/350 [==============================] - 1s 3ms/step - loss: 0.3699 - accuracy: 0.8574 - val_loss: 0.3722 - val_accuracy: 0.8575\n",
            "Epoch 480/500\n",
            "350/350 [==============================] - 1s 3ms/step - loss: 0.3718 - accuracy: 0.8574 - val_loss: 0.3832 - val_accuracy: 0.8475\n",
            "Epoch 481/500\n",
            "350/350 [==============================] - 1s 3ms/step - loss: 0.3689 - accuracy: 0.8596 - val_loss: 0.3729 - val_accuracy: 0.8517\n",
            "Epoch 482/500\n",
            "350/350 [==============================] - 1s 3ms/step - loss: 0.3682 - accuracy: 0.8553 - val_loss: 0.3725 - val_accuracy: 0.8642\n",
            "Epoch 483/500\n",
            "350/350 [==============================] - 1s 3ms/step - loss: 0.3701 - accuracy: 0.8524 - val_loss: 0.3872 - val_accuracy: 0.8392\n",
            "Epoch 484/500\n",
            "350/350 [==============================] - 1s 3ms/step - loss: 0.3699 - accuracy: 0.8528 - val_loss: 0.3605 - val_accuracy: 0.8642\n",
            "Epoch 485/500\n",
            "350/350 [==============================] - 1s 3ms/step - loss: 0.3733 - accuracy: 0.8514 - val_loss: 0.3728 - val_accuracy: 0.8617\n",
            "Epoch 486/500\n",
            "350/350 [==============================] - 1s 3ms/step - loss: 0.3695 - accuracy: 0.8557 - val_loss: 0.3614 - val_accuracy: 0.8642\n",
            "Epoch 487/500\n",
            "350/350 [==============================] - 1s 3ms/step - loss: 0.3710 - accuracy: 0.8546 - val_loss: 0.3680 - val_accuracy: 0.8550\n",
            "Epoch 488/500\n",
            "350/350 [==============================] - 1s 3ms/step - loss: 0.3701 - accuracy: 0.8535 - val_loss: 0.3625 - val_accuracy: 0.8642\n",
            "Epoch 489/500\n",
            "350/350 [==============================] - 1s 3ms/step - loss: 0.3686 - accuracy: 0.8553 - val_loss: 0.3650 - val_accuracy: 0.8642\n",
            "Epoch 490/500\n",
            "350/350 [==============================] - 1s 3ms/step - loss: 0.3710 - accuracy: 0.8539 - val_loss: 0.3943 - val_accuracy: 0.8442\n",
            "Epoch 491/500\n",
            "350/350 [==============================] - 1s 3ms/step - loss: 0.3713 - accuracy: 0.8557 - val_loss: 0.3695 - val_accuracy: 0.8550\n",
            "Epoch 492/500\n",
            "350/350 [==============================] - 1s 3ms/step - loss: 0.3701 - accuracy: 0.8521 - val_loss: 0.3692 - val_accuracy: 0.8625\n",
            "Epoch 493/500\n",
            "350/350 [==============================] - 1s 3ms/step - loss: 0.3689 - accuracy: 0.8585 - val_loss: 0.3848 - val_accuracy: 0.8550\n",
            "Epoch 494/500\n",
            "350/350 [==============================] - 1s 3ms/step - loss: 0.3673 - accuracy: 0.8542 - val_loss: 0.3651 - val_accuracy: 0.8575\n",
            "Epoch 495/500\n",
            "350/350 [==============================] - 1s 3ms/step - loss: 0.3698 - accuracy: 0.8560 - val_loss: 0.3662 - val_accuracy: 0.8658\n",
            "Epoch 496/500\n",
            "350/350 [==============================] - 1s 3ms/step - loss: 0.3734 - accuracy: 0.8542 - val_loss: 0.3630 - val_accuracy: 0.8617\n",
            "Epoch 497/500\n",
            "350/350 [==============================] - 1s 3ms/step - loss: 0.3682 - accuracy: 0.8560 - val_loss: 0.3699 - val_accuracy: 0.8567\n",
            "Epoch 498/500\n",
            "350/350 [==============================] - 1s 3ms/step - loss: 0.3715 - accuracy: 0.8524 - val_loss: 0.3642 - val_accuracy: 0.8600\n",
            "Epoch 499/500\n",
            "350/350 [==============================] - 1s 3ms/step - loss: 0.3726 - accuracy: 0.8521 - val_loss: 0.3665 - val_accuracy: 0.8583\n",
            "Epoch 500/500\n",
            "350/350 [==============================] - 1s 3ms/step - loss: 0.3684 - accuracy: 0.8603 - val_loss: 0.3666 - val_accuracy: 0.8625\n"
          ],
          "name": "stdout"
        }
      ]
    },
    {
      "cell_type": "code",
      "metadata": {
        "id": "E-fzpwabWNCq",
        "colab": {
          "base_uri": "https://localhost:8080/"
        },
        "outputId": "ffcbf91e-2210-4da0-c53a-81990e54f388"
      },
      "source": [
        "# list all data in history\n",
        "\n",
        "print(model_hisrory.history.keys())\n"
      ],
      "execution_count": null,
      "outputs": [
        {
          "output_type": "stream",
          "text": [
            "dict_keys(['loss', 'accuracy', 'val_loss', 'val_accuracy'])\n"
          ],
          "name": "stdout"
        }
      ]
    },
    {
      "cell_type": "code",
      "metadata": {
        "id": "l89NHRFnlN7g",
        "colab": {
          "base_uri": "https://localhost:8080/",
          "height": 295
        },
        "outputId": "76f0fd3c-e6de-4642-8a1d-b90b580fdf13"
      },
      "source": [
        "# summarize history for accuracy\n",
        "plt.plot(model_hisrory.history['accuracy'])\n",
        "plt.plot(model_hisrory.history['val_accuracy'])\n",
        "plt.title('model accuracy')\n",
        "plt.ylabel('accuracy')\n",
        "plt.xlabel('epoch')\n",
        "plt.legend(['train', 'test'], loc='upper left')\n",
        "plt.show()\n",
        "\n"
      ],
      "execution_count": null,
      "outputs": [
        {
          "output_type": "display_data",
          "data": {
            "image/png": "[encoded data removed]",
            "text/plain": [
              "<Figure size 432x288 with 1 Axes>"
            ]
          },
          "metadata": {
            "tags": [],
            "needs_background": "light"
          }
        }
      ]
    },
    {
      "cell_type": "code",
      "metadata": {
        "id": "k8YDf99E6QnZ",
        "colab": {
          "base_uri": "https://localhost:8080/",
          "height": 295
        },
        "outputId": "2336d14d-9ed3-47a6-decb-b96fc192d367"
      },
      "source": [
        "plt.plot(model_hisrory.history['loss'])\n",
        "plt.plot(model_hisrory.history['val_loss'])\n",
        "plt.title('model loss')\n",
        "plt.ylabel('loss')\n",
        "plt.xlabel('epoch')\n",
        "plt.legend(['train', 'test'], loc='upper left')\n",
        "plt.show()\n",
        "\n"
      ],
      "execution_count": null,
      "outputs": [
        {
          "output_type": "display_data",
          "data": {
            "image/png": "[encoded data removed]",
            "text/plain": [
              "<Figure size 432x288 with 1 Axes>"
            ]
          },
          "metadata": {
            "tags": [],
            "needs_background": "light"
          }
        }
      ]
    },
    {
      "cell_type": "code",
      "metadata": {
        "id": "8PpuikOdlSmZ",
        "colab": {
          "base_uri": "https://localhost:8080/"
        },
        "outputId": "8bcb844c-b95f-4919-a76e-0ef253b2d4e8"
      },
      "source": [
        "score=model.evaluate(X_test,y_test,batch_size=16)\n",
        "score"
      ],
      "execution_count": null,
      "outputs": [
        {
          "output_type": "stream",
          "text": [
            "108/108 [==============================] - 0s 2ms/step - loss: 0.3611 - accuracy: 0.8594\n"
          ],
          "name": "stdout"
        },
        {
          "output_type": "execute_result",
          "data": {
            "text/plain": [
              "[0.36107760667800903, 0.8593932390213013]"
            ]
          },
          "metadata": {
            "tags": []
          },
          "execution_count": 37
        }
      ]
    },
    {
      "cell_type": "code",
      "metadata": {
        "id": "3Rz6KfJPttBN",
        "colab": {
          "base_uri": "https://localhost:8080/"
        },
        "outputId": "70a0a2bc-f3ab-44bd-90a7-c60c3d1323b5"
      },
      "source": [
        "\n",
        "print('Enter parametres in order (Duplicacy(Non unique elememts(0 if all are unique,1 uf all are same)),measure of repeated elements(0 if all are unique),amount of randomnes(0 if array is already sorted, 1 if completely random),Order of array length(0,1,2,3,4)',)\n",
        "b=list(map(float,input().split(',')))\n",
        "dict={0:[0,0,0,0],1:[1,0,0,0],2:[0,1,0,0],3:[0,0,1,0],4:[0,0,0,1]}\n",
        "input1=[b[0],b[1],b[2]]\n",
        "for i in dict[int(b[3])]:\n",
        "  input1.append(i)\n",
        "b=np.array(input1)\n",
        "b=np.reshape(b,(1,7))\n",
        "y=model.predict(b)\n",
        "import sys\n",
        "index=0\n",
        "maxp=-sys.maxsize\n",
        "for i in range(len(y[0])):\n",
        "  if y[0][i]>maxp:\n",
        "    maxp=y[0][i]\n",
        "    index=i\n",
        "Algo={2:'BubbleSort',1:'Selection Sort',5:'Insertion Sort',4:'Quick Sort',3:'Merge Sort'}\n",
        "print('Fastest Algo will be:',Algo[index])\n",
        "\n",
        "\n"
      ],
      "execution_count": null,
      "outputs": [
        {
          "output_type": "stream",
          "text": [
            "Enter parametres in order (Duplicacy(Non unique elememts(0 if all are unique,1 uf all are same)),measure of repeated elements(0 if all are unique),amount of randomnes(0 if array is already sorted, 1 if completely random),Order of array length(0,1,2,3,4)\n",
            "0.5,0.5,0.7,3\n",
            "Fastest Algo will be: Quick Sort\n"
          ],
          "name": "stdout"
        }
      ]
    },
    {
      "cell_type": "code",
      "metadata": {
        "id": "9LSQMvQgFMPp"
      },
      "source": [
        ""
      ],
      "execution_count": null,
      "outputs": []
    }
  ]
}